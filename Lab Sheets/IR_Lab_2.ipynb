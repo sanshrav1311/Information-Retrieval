{
  "nbformat": 4,
  "nbformat_minor": 0,
  "metadata": {
    "colab": {
      "provenance": []
    },
    "kernelspec": {
      "name": "python3",
      "display_name": "Python 3"
    },
    "language_info": {
      "name": "python"
    }
  },
  "cells": [
    {
      "cell_type": "markdown",
      "source": [
        "#**Information Retrieval CSF469**\n",
        "##Lab Session - 2\n",
        "## Date - 31/01/2024\n",
        "##<font color ='GREEN'>Marks: 10</font>\n",
        "In this lab session, we implement standard boolean query retrivel.\n",
        "\n",
        "## Students have to write their code in blank spaces marked under <font color = \"RED\">TO-DO</font> section\n"
      ],
      "metadata": {
        "id": "ByCxbJJlONuv"
      }
    },
    {
      "cell_type": "markdown",
      "source": [
        "You are given documents relating to two companies, A and B. You are required to create a standard boolean retrieval system to retrieve the relevant documents in the dataset that satisfy the conditions given in the query."
      ],
      "metadata": {
        "id": "SeHqP33uWCOk"
      }
    },
    {
      "cell_type": "code",
      "execution_count": null,
      "metadata": {
        "id": "cWvkOVVtHbdi"
      },
      "outputs": [],
      "source": [
        "import pandas as pd"
      ]
    },
    {
      "cell_type": "markdown",
      "source": [
        "#<font color = \"RED\">TO-DO</font> (1 mark)"
      ],
      "metadata": {
        "id": "cxjOUPYftPU5"
      }
    },
    {
      "cell_type": "code",
      "source": [
        "dataset = ________ #read dataset"
      ],
      "metadata": {
        "id": "KIzjTQXJIigP"
      },
      "execution_count": null,
      "outputs": []
    },
    {
      "cell_type": "code",
      "source": [
        "print(dataset)"
      ],
      "metadata": {
        "colab": {
          "base_uri": "https://localhost:8080/"
        },
        "id": "RaTWAM6jIw4f",
        "outputId": "d90917e9-8938-49c6-a2e4-0a77916e7c3f"
      },
      "execution_count": null,
      "outputs": [
        {
          "output_type": "stream",
          "name": "stdout",
          "text": [
            "                                                 title     label\n",
            "0    Avantel Limited Announces Resignation of Ebv R...   Avantel\n",
            "1    480% Returns From 1-Year Low: Multibagger Defe...   Avantel\n",
            "2    Multibagger defence stock rises 5% on Rs 68 cr...   Avantel\n",
            "3    Avantel Ltd receives order worth Rs. 67.92 cro...   Avantel\n",
            "4    Rs 11 to Rs 129: This defence stock turned int...   Avantel\n",
            "..                                                 ...       ...\n",
            "157  Titagarh Rail Systems rolls out new diving sup...  Titagarh\n",
            "158  Titagarh Rail shares fall 10% from record high...  Titagarh\n",
            "159  Rs 49 to Rs 813: This railway stock turned int...  Titagarh\n",
            "160  Škoda Group secures €732m contract with Trenit...  Titagarh\n",
            "161  Titagarh Rail Share Price: Stock at record hig...  Titagarh\n",
            "\n",
            "[162 rows x 2 columns]\n"
          ]
        }
      ]
    },
    {
      "cell_type": "code",
      "source": [
        "df = dataset.iloc[:, 0]\n",
        "df2 = dataset.iloc[:, -1]"
      ],
      "metadata": {
        "id": "bot6k8D3IzEr"
      },
      "execution_count": null,
      "outputs": []
    },
    {
      "cell_type": "code",
      "source": [
        "print(df)\n",
        "df2 = df2.to_frame()\n",
        "print(df2)"
      ],
      "metadata": {
        "colab": {
          "base_uri": "https://localhost:8080/"
        },
        "id": "mhpjMLQ8JOrs",
        "outputId": "8c3d4198-2fd0-40f9-f90b-ebce847b5787"
      },
      "execution_count": null,
      "outputs": [
        {
          "output_type": "stream",
          "name": "stdout",
          "text": [
            "0      Avantel Limited Announces Resignation of Ebv R...\n",
            "1      480% Returns From 1-Year Low: Multibagger Defe...\n",
            "2      Multibagger defence stock rises 5% on Rs 68 cr...\n",
            "3      Avantel Ltd receives order worth Rs. 67.92 cro...\n",
            "4      Rs 11 to Rs 129: This defence stock turned int...\n",
            "                             ...                        \n",
            "157    Titagarh Rail Systems rolls out new diving sup...\n",
            "158    Titagarh Rail shares fall 10% from record high...\n",
            "159    Rs 49 to Rs 813: This railway stock turned int...\n",
            "160    Škoda Group secures €732m contract with Trenit...\n",
            "161    Titagarh Rail Share Price: Stock at record hig...\n",
            "Name: title, Length: 162, dtype: object\n",
            "        label\n",
            "0     Avantel\n",
            "1     Avantel\n",
            "2     Avantel\n",
            "3     Avantel\n",
            "4     Avantel\n",
            "..        ...\n",
            "157  Titagarh\n",
            "158  Titagarh\n",
            "159  Titagarh\n",
            "160  Titagarh\n",
            "161  Titagarh\n",
            "\n",
            "[162 rows x 1 columns]\n"
          ]
        }
      ]
    },
    {
      "cell_type": "code",
      "source": [
        "import nltk\n",
        "from nltk.corpus import stopwords\n",
        "from nltk.tokenize import word_tokenize\n",
        "from nltk.stem import WordNetLemmatizer\n",
        "import string"
      ],
      "metadata": {
        "id": "EgiOgbtjJQ9P"
      },
      "execution_count": null,
      "outputs": []
    },
    {
      "cell_type": "code",
      "source": [
        "nltk.download('punkt')\n",
        "nltk.download('stopwords')\n",
        "nltk.download('wordnet')"
      ],
      "metadata": {
        "colab": {
          "base_uri": "https://localhost:8080/"
        },
        "id": "BIU_kYq1J5Qv",
        "outputId": "cc68ba6f-b64c-4fe2-df4d-b213bceecd74"
      },
      "execution_count": null,
      "outputs": [
        {
          "output_type": "stream",
          "name": "stderr",
          "text": [
            "[nltk_data] Downloading package punkt to /root/nltk_data...\n",
            "[nltk_data]   Package punkt is already up-to-date!\n",
            "[nltk_data] Downloading package stopwords to /root/nltk_data...\n",
            "[nltk_data]   Package stopwords is already up-to-date!\n",
            "[nltk_data] Downloading package wordnet to /root/nltk_data...\n",
            "[nltk_data]   Package wordnet is already up-to-date!\n"
          ]
        },
        {
          "output_type": "execute_result",
          "data": {
            "text/plain": [
              "True"
            ]
          },
          "metadata": {},
          "execution_count": 30
        }
      ]
    },
    {
      "cell_type": "code",
      "source": [
        "stop_words = set(stopwords.words('english'))"
      ],
      "metadata": {
        "id": "uDz1fF37JpKR"
      },
      "execution_count": null,
      "outputs": []
    },
    {
      "cell_type": "markdown",
      "source": [
        "##<font color = \"RED\">TO-DO</font>  (2 marks)"
      ],
      "metadata": {
        "id": "rD-OMwSeSVS_"
      }
    },
    {
      "cell_type": "code",
      "source": [
        "def preprocess_text(text):\n",
        "    # Tokenize the text\n",
        "    tokens = word_tokenize(text)\n",
        "\n",
        "    # Remove punctuation and convert to lower case\n",
        "    tokens = [word.lower() for word in tokens if word.isalpha()]\n",
        "\n",
        "    # The above line removes the numeric values in text. Make changes in the above line so as to keep numeric values in text as well\n",
        "          #write your new code line here and comment the above line\n",
        "          ___________________\n",
        "\n",
        "    # Remove stop words\n",
        "    tokens = [________________________]#TO-DO\n",
        "\n",
        "    return tokens"
      ],
      "metadata": {
        "id": "kDBu3WnIJ0SO"
      },
      "execution_count": null,
      "outputs": []
    },
    {
      "cell_type": "code",
      "source": [
        "processed_data = df.apply(preprocess_text)"
      ],
      "metadata": {
        "id": "gcv6eJHYKCer"
      },
      "execution_count": null,
      "outputs": []
    },
    {
      "cell_type": "code",
      "source": [
        "print(processed_data)"
      ],
      "metadata": {
        "colab": {
          "base_uri": "https://localhost:8080/"
        },
        "id": "IuvJ3FV6KGau",
        "outputId": "b421fd51-31c0-4c6f-a68c-fec5e4463390"
      },
      "execution_count": null,
      "outputs": [
        {
          "output_type": "stream",
          "name": "stdout",
          "text": [
            "0      [avantel, limited, announces, resignation, ebv...\n",
            "1      [returns, low, multibagger, defence, stock, le...\n",
            "2      [multibagger, defence, stock, rises, rs, crore...\n",
            "3      [avantel, ltd, receives, order, worth, rs, cro...\n",
            "4      [rs, rs, defence, stock, turned, multibagger, ...\n",
            "                             ...                        \n",
            "157    [titagarh, rail, systems, rolls, new, diving, ...\n",
            "158    [titagarh, rail, shares, fall, record, high, r...\n",
            "159    [rs, rs, railway, stock, turned, multibagger, ...\n",
            "160    [škoda, group, secures, contract, trenitalia, ...\n",
            "161    [titagarh, rail, share, price, stock, record, ...\n",
            "Name: title, Length: 162, dtype: object\n"
          ]
        }
      ]
    },
    {
      "cell_type": "markdown",
      "source": [
        "#<font color = \"RED\">TO-DO</font> (2 marks)"
      ],
      "metadata": {
        "id": "rVfPaQqIS0uL"
      }
    },
    {
      "cell_type": "code",
      "source": [
        "# Define the inverted index dictionary\n",
        "inverted_index = {}\n",
        "\n",
        "# Iterate through each document and its processed tokens\n",
        "for doc_id, tokens in enumerate(processed_data):\n",
        "    _________________________\n",
        "    __________________________\n",
        "    __________________________"
      ],
      "metadata": {
        "id": "ghADAJ0RKITz"
      },
      "execution_count": null,
      "outputs": []
    },
    {
      "cell_type": "code",
      "source": [
        "# for word, doc_ids in inverted_index.items():\n",
        "#     print(f\"{word}: {list(doc_ids)}\")"
      ],
      "metadata": {
        "id": "hKN9rKaYL_fo"
      },
      "execution_count": null,
      "outputs": []
    },
    {
      "cell_type": "markdown",
      "source": [
        "#<font color = \"RED\">TO-DO</font> (3 marks)"
      ],
      "metadata": {
        "id": "XPmluc0Xss0K"
      }
    },
    {
      "cell_type": "code",
      "source": [
        "def boolean_query(query, inverted_index, df):\n",
        "    # Tokenize the query into words and operators\n",
        "    query_parts = query.lower().split()\n",
        "\n",
        "    # Separate words and operators\n",
        "    # Assuming query is of the format 'A and/or B and/or C..'\n",
        "    words = preprocess_text(query)\n",
        "    operators = [token for token in query_parts if token in [\"and\", \"or\"]]\n",
        "\n",
        "    # Initialize result with the document set of the first word\n",
        "    # Assuming words are already preprocessed\n",
        "    result_set = set(inverted_index.get(words[0], []))\n",
        "\n",
        "\n",
        "    # Iterate over the remaining words and apply boolean operations\n",
        "    for i, operator in enumerate(operators):\n",
        "        #write code here\n",
        "        _____________\n",
        "        _____________\n",
        "        _____________\n",
        "\n",
        "    # Fetch the document data for each ID in the result set\n",
        "    document_data = df.iloc[list(result_set)]\n",
        "\n",
        "    return document_data"
      ],
      "metadata": {
        "id": "vHRBCEU9MBkp"
      },
      "execution_count": null,
      "outputs": []
    },
    {
      "cell_type": "code",
      "source": [
        "query = input(\"Enter a boolean query with optional labels (e.g., 'word1 AND word2 OR avantel word3'): \")\n",
        "resulting_set = boolean_query(query, inverted_index, df)\n",
        "print(f\"Documents satisfying '{query}':\\n{resulting_set}\")"
      ],
      "metadata": {
        "id": "8lX0p1TfPf4H",
        "colab": {
          "base_uri": "https://localhost:8080/"
        },
        "outputId": "4511c893-5c03-4165-c46f-fd47c301303b"
      },
      "execution_count": null,
      "outputs": [
        {
          "output_type": "stream",
          "name": "stdout",
          "text": [
            "Enter a boolean query with optional labels (e.g., 'word1 AND word2 OR avantel word3'): app\n",
            "['app']\n",
            "Documents satisfying 'app':\n",
            "Series([], Name: title, dtype: object)\n"
          ]
        }
      ]
    },
    {
      "cell_type": "markdown",
      "source": [
        "#<font color = \"RED\">TO-DO</font> (2 marks)\n",
        "Print the results of following queries.\n",
        "\n",
        "Query1: Avantel and order or book\n",
        "\n",
        "Query2: Titagarh and intrnational or business or client\n",
        "\n",
        "Query3: Findout the international clients of company avantel (first convert query into proper format as above, such that Recall is maximised)"
      ],
      "metadata": {
        "id": "Mb3nOvIvtxmV"
      }
    },
    {
      "cell_type": "code",
      "source": [
        "# write your code"
      ],
      "metadata": {
        "id": "1bw4OBDQtydz"
      },
      "execution_count": null,
      "outputs": []
    }
  ]
}