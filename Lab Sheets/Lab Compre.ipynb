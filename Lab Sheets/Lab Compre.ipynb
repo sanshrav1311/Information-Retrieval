{
 "cells": [
  {
   "cell_type": "markdown",
   "metadata": {
    "id": "wTXbUDqmHcsl"
   },
   "source": [
    "##Inormation Retrieval - CSF469\n",
    "## Lab Test\n",
    "## Duration: 120 mins\n",
    "## Total Marks: 50\n",
    "## Open book\n",
    "##Instructions:\n",
    "### 1. Rename code file with your \"firstname and student id\".\n",
    "### 2. Students are required to fill the blanks with code syntax in the sections marked as <font color='RED'>(TO-DO)</font>.\n",
    "## Objective:\n",
    "## 1. Perform classification using text features.\n",
    "## 2. Enhanced classification using pagerank.\n",
    "## 3. Identification of top-5 most cited papers.\n",
    "\n",
    "### Dataset details:\n",
    "The Cora dataset consists of 2708 scientific publications classified into one of seven classes. The citation network consists of 5429 links. Each publication in the dataset is described by a 0/1-valued word vector indicating the absence/presence of the corresponding word from the dictionary. The dictionary consists of 1433 unique words.\n",
    "\n"
   ]
  },
  {
   "cell_type": "markdown",
   "metadata": {
    "id": "0tyAJLXziThd"
   },
   "source": [
    "## Load dataset"
   ]
  },
  {
   "cell_type": "code",
   "execution_count": 1,
   "metadata": {
    "id": "Z_KUL1Fjly71"
   },
   "outputs": [],
   "source": [
    "import pandas as pd\n",
    "import networkx as nx\n",
    "import numpy as np\n",
    "from sklearn.model_selection import train_test_split\n",
    "from sklearn.metrics import accuracy_score\n",
    "from sklearn.preprocessing import LabelEncoder"
   ]
  },
  {
   "cell_type": "code",
   "execution_count": 3,
   "metadata": {
    "colab": {
     "base_uri": "https://localhost:8080/",
     "height": 423
    },
    "id": "j-kmj_lpiMRg",
    "outputId": "a161ba08-8762-41fe-ec6d-99d7c229ca4f"
   },
   "outputs": [
    {
     "data": {
      "text/html": [
       "<div>\n",
       "<style scoped>\n",
       "    .dataframe tbody tr th:only-of-type {\n",
       "        vertical-align: middle;\n",
       "    }\n",
       "\n",
       "    .dataframe tbody tr th {\n",
       "        vertical-align: top;\n",
       "    }\n",
       "\n",
       "    .dataframe thead th {\n",
       "        text-align: right;\n",
       "    }\n",
       "</style>\n",
       "<table border=\"1\" class=\"dataframe\">\n",
       "  <thead>\n",
       "    <tr style=\"text-align: right;\">\n",
       "      <th></th>\n",
       "      <th>0</th>\n",
       "      <th>1</th>\n",
       "      <th>2</th>\n",
       "      <th>3</th>\n",
       "      <th>4</th>\n",
       "      <th>5</th>\n",
       "      <th>6</th>\n",
       "      <th>7</th>\n",
       "      <th>8</th>\n",
       "      <th>9</th>\n",
       "      <th>...</th>\n",
       "      <th>1425</th>\n",
       "      <th>1426</th>\n",
       "      <th>1427</th>\n",
       "      <th>1428</th>\n",
       "      <th>1429</th>\n",
       "      <th>1430</th>\n",
       "      <th>1431</th>\n",
       "      <th>1432</th>\n",
       "      <th>1433</th>\n",
       "      <th>1434</th>\n",
       "    </tr>\n",
       "  </thead>\n",
       "  <tbody>\n",
       "    <tr>\n",
       "      <th>0</th>\n",
       "      <td>31336</td>\n",
       "      <td>0</td>\n",
       "      <td>0</td>\n",
       "      <td>0</td>\n",
       "      <td>0</td>\n",
       "      <td>0</td>\n",
       "      <td>0</td>\n",
       "      <td>0</td>\n",
       "      <td>0</td>\n",
       "      <td>0</td>\n",
       "      <td>...</td>\n",
       "      <td>0</td>\n",
       "      <td>0</td>\n",
       "      <td>1</td>\n",
       "      <td>0</td>\n",
       "      <td>0</td>\n",
       "      <td>0</td>\n",
       "      <td>0</td>\n",
       "      <td>0</td>\n",
       "      <td>0</td>\n",
       "      <td>Neural_Networks</td>\n",
       "    </tr>\n",
       "    <tr>\n",
       "      <th>1</th>\n",
       "      <td>1061127</td>\n",
       "      <td>0</td>\n",
       "      <td>0</td>\n",
       "      <td>0</td>\n",
       "      <td>0</td>\n",
       "      <td>0</td>\n",
       "      <td>0</td>\n",
       "      <td>0</td>\n",
       "      <td>0</td>\n",
       "      <td>0</td>\n",
       "      <td>...</td>\n",
       "      <td>0</td>\n",
       "      <td>1</td>\n",
       "      <td>0</td>\n",
       "      <td>0</td>\n",
       "      <td>0</td>\n",
       "      <td>0</td>\n",
       "      <td>0</td>\n",
       "      <td>0</td>\n",
       "      <td>0</td>\n",
       "      <td>Rule_Learning</td>\n",
       "    </tr>\n",
       "    <tr>\n",
       "      <th>2</th>\n",
       "      <td>1106406</td>\n",
       "      <td>0</td>\n",
       "      <td>0</td>\n",
       "      <td>0</td>\n",
       "      <td>0</td>\n",
       "      <td>0</td>\n",
       "      <td>0</td>\n",
       "      <td>0</td>\n",
       "      <td>0</td>\n",
       "      <td>0</td>\n",
       "      <td>...</td>\n",
       "      <td>0</td>\n",
       "      <td>0</td>\n",
       "      <td>0</td>\n",
       "      <td>0</td>\n",
       "      <td>0</td>\n",
       "      <td>0</td>\n",
       "      <td>0</td>\n",
       "      <td>0</td>\n",
       "      <td>0</td>\n",
       "      <td>Reinforcement_Learning</td>\n",
       "    </tr>\n",
       "    <tr>\n",
       "      <th>3</th>\n",
       "      <td>13195</td>\n",
       "      <td>0</td>\n",
       "      <td>0</td>\n",
       "      <td>0</td>\n",
       "      <td>0</td>\n",
       "      <td>0</td>\n",
       "      <td>0</td>\n",
       "      <td>0</td>\n",
       "      <td>0</td>\n",
       "      <td>0</td>\n",
       "      <td>...</td>\n",
       "      <td>0</td>\n",
       "      <td>0</td>\n",
       "      <td>0</td>\n",
       "      <td>0</td>\n",
       "      <td>0</td>\n",
       "      <td>0</td>\n",
       "      <td>0</td>\n",
       "      <td>0</td>\n",
       "      <td>0</td>\n",
       "      <td>Reinforcement_Learning</td>\n",
       "    </tr>\n",
       "    <tr>\n",
       "      <th>4</th>\n",
       "      <td>37879</td>\n",
       "      <td>0</td>\n",
       "      <td>0</td>\n",
       "      <td>0</td>\n",
       "      <td>0</td>\n",
       "      <td>0</td>\n",
       "      <td>0</td>\n",
       "      <td>0</td>\n",
       "      <td>0</td>\n",
       "      <td>0</td>\n",
       "      <td>...</td>\n",
       "      <td>0</td>\n",
       "      <td>0</td>\n",
       "      <td>0</td>\n",
       "      <td>0</td>\n",
       "      <td>0</td>\n",
       "      <td>0</td>\n",
       "      <td>0</td>\n",
       "      <td>0</td>\n",
       "      <td>0</td>\n",
       "      <td>Probabilistic_Methods</td>\n",
       "    </tr>\n",
       "    <tr>\n",
       "      <th>...</th>\n",
       "      <td>...</td>\n",
       "      <td>...</td>\n",
       "      <td>...</td>\n",
       "      <td>...</td>\n",
       "      <td>...</td>\n",
       "      <td>...</td>\n",
       "      <td>...</td>\n",
       "      <td>...</td>\n",
       "      <td>...</td>\n",
       "      <td>...</td>\n",
       "      <td>...</td>\n",
       "      <td>...</td>\n",
       "      <td>...</td>\n",
       "      <td>...</td>\n",
       "      <td>...</td>\n",
       "      <td>...</td>\n",
       "      <td>...</td>\n",
       "      <td>...</td>\n",
       "      <td>...</td>\n",
       "      <td>...</td>\n",
       "      <td>...</td>\n",
       "    </tr>\n",
       "    <tr>\n",
       "      <th>2703</th>\n",
       "      <td>1128975</td>\n",
       "      <td>0</td>\n",
       "      <td>0</td>\n",
       "      <td>0</td>\n",
       "      <td>0</td>\n",
       "      <td>0</td>\n",
       "      <td>0</td>\n",
       "      <td>0</td>\n",
       "      <td>0</td>\n",
       "      <td>0</td>\n",
       "      <td>...</td>\n",
       "      <td>0</td>\n",
       "      <td>0</td>\n",
       "      <td>0</td>\n",
       "      <td>0</td>\n",
       "      <td>0</td>\n",
       "      <td>0</td>\n",
       "      <td>0</td>\n",
       "      <td>0</td>\n",
       "      <td>0</td>\n",
       "      <td>Genetic_Algorithms</td>\n",
       "    </tr>\n",
       "    <tr>\n",
       "      <th>2704</th>\n",
       "      <td>1128977</td>\n",
       "      <td>0</td>\n",
       "      <td>0</td>\n",
       "      <td>0</td>\n",
       "      <td>0</td>\n",
       "      <td>0</td>\n",
       "      <td>0</td>\n",
       "      <td>0</td>\n",
       "      <td>0</td>\n",
       "      <td>0</td>\n",
       "      <td>...</td>\n",
       "      <td>0</td>\n",
       "      <td>0</td>\n",
       "      <td>0</td>\n",
       "      <td>0</td>\n",
       "      <td>0</td>\n",
       "      <td>0</td>\n",
       "      <td>0</td>\n",
       "      <td>0</td>\n",
       "      <td>0</td>\n",
       "      <td>Genetic_Algorithms</td>\n",
       "    </tr>\n",
       "    <tr>\n",
       "      <th>2705</th>\n",
       "      <td>1128978</td>\n",
       "      <td>0</td>\n",
       "      <td>0</td>\n",
       "      <td>0</td>\n",
       "      <td>0</td>\n",
       "      <td>0</td>\n",
       "      <td>0</td>\n",
       "      <td>0</td>\n",
       "      <td>0</td>\n",
       "      <td>0</td>\n",
       "      <td>...</td>\n",
       "      <td>0</td>\n",
       "      <td>0</td>\n",
       "      <td>0</td>\n",
       "      <td>0</td>\n",
       "      <td>0</td>\n",
       "      <td>0</td>\n",
       "      <td>0</td>\n",
       "      <td>0</td>\n",
       "      <td>0</td>\n",
       "      <td>Genetic_Algorithms</td>\n",
       "    </tr>\n",
       "    <tr>\n",
       "      <th>2706</th>\n",
       "      <td>117328</td>\n",
       "      <td>0</td>\n",
       "      <td>0</td>\n",
       "      <td>0</td>\n",
       "      <td>0</td>\n",
       "      <td>1</td>\n",
       "      <td>0</td>\n",
       "      <td>0</td>\n",
       "      <td>0</td>\n",
       "      <td>0</td>\n",
       "      <td>...</td>\n",
       "      <td>0</td>\n",
       "      <td>0</td>\n",
       "      <td>0</td>\n",
       "      <td>0</td>\n",
       "      <td>0</td>\n",
       "      <td>0</td>\n",
       "      <td>0</td>\n",
       "      <td>0</td>\n",
       "      <td>0</td>\n",
       "      <td>Case_Based</td>\n",
       "    </tr>\n",
       "    <tr>\n",
       "      <th>2707</th>\n",
       "      <td>24043</td>\n",
       "      <td>0</td>\n",
       "      <td>0</td>\n",
       "      <td>0</td>\n",
       "      <td>0</td>\n",
       "      <td>0</td>\n",
       "      <td>0</td>\n",
       "      <td>0</td>\n",
       "      <td>0</td>\n",
       "      <td>0</td>\n",
       "      <td>...</td>\n",
       "      <td>0</td>\n",
       "      <td>0</td>\n",
       "      <td>0</td>\n",
       "      <td>0</td>\n",
       "      <td>0</td>\n",
       "      <td>0</td>\n",
       "      <td>0</td>\n",
       "      <td>0</td>\n",
       "      <td>0</td>\n",
       "      <td>Neural_Networks</td>\n",
       "    </tr>\n",
       "  </tbody>\n",
       "</table>\n",
       "<p>2708 rows × 1435 columns</p>\n",
       "</div>"
      ],
      "text/plain": [
       "         0     1     2     3     4     5     6     7     8     9     ...  \\\n",
       "0       31336     0     0     0     0     0     0     0     0     0  ...   \n",
       "1     1061127     0     0     0     0     0     0     0     0     0  ...   \n",
       "2     1106406     0     0     0     0     0     0     0     0     0  ...   \n",
       "3       13195     0     0     0     0     0     0     0     0     0  ...   \n",
       "4       37879     0     0     0     0     0     0     0     0     0  ...   \n",
       "...       ...   ...   ...   ...   ...   ...   ...   ...   ...   ...  ...   \n",
       "2703  1128975     0     0     0     0     0     0     0     0     0  ...   \n",
       "2704  1128977     0     0     0     0     0     0     0     0     0  ...   \n",
       "2705  1128978     0     0     0     0     0     0     0     0     0  ...   \n",
       "2706   117328     0     0     0     0     1     0     0     0     0  ...   \n",
       "2707    24043     0     0     0     0     0     0     0     0     0  ...   \n",
       "\n",
       "      1425  1426  1427  1428  1429  1430  1431  1432  1433  \\\n",
       "0        0     0     1     0     0     0     0     0     0   \n",
       "1        0     1     0     0     0     0     0     0     0   \n",
       "2        0     0     0     0     0     0     0     0     0   \n",
       "3        0     0     0     0     0     0     0     0     0   \n",
       "4        0     0     0     0     0     0     0     0     0   \n",
       "...    ...   ...   ...   ...   ...   ...   ...   ...   ...   \n",
       "2703     0     0     0     0     0     0     0     0     0   \n",
       "2704     0     0     0     0     0     0     0     0     0   \n",
       "2705     0     0     0     0     0     0     0     0     0   \n",
       "2706     0     0     0     0     0     0     0     0     0   \n",
       "2707     0     0     0     0     0     0     0     0     0   \n",
       "\n",
       "                        1434  \n",
       "0            Neural_Networks  \n",
       "1              Rule_Learning  \n",
       "2     Reinforcement_Learning  \n",
       "3     Reinforcement_Learning  \n",
       "4      Probabilistic_Methods  \n",
       "...                      ...  \n",
       "2703      Genetic_Algorithms  \n",
       "2704      Genetic_Algorithms  \n",
       "2705      Genetic_Algorithms  \n",
       "2706              Case_Based  \n",
       "2707         Neural_Networks  \n",
       "\n",
       "[2708 rows x 1435 columns]"
      ]
     },
     "execution_count": 3,
     "metadata": {},
     "output_type": "execute_result"
    }
   ],
   "source": [
    "file_path = \"./cora.content\"\n",
    "cora = pd.read_csv(file_path, sep='\\t', header=None, low_memory=False, encoding='unicode_escape')\n",
    "cora"
   ]
  },
  {
   "cell_type": "markdown",
   "metadata": {
    "id": "gZjMuV8iu8H5"
   },
   "source": [
    "<font color='RED'>(TO-DO)</font> [2 marks]"
   ]
  },
  {
   "cell_type": "code",
   "execution_count": null,
   "metadata": {
    "id": "D3Aa06AFiLpO"
   },
   "outputs": [],
   "source": [
    "# plot the class distribution of data\n",
    "_____________________________\n",
    "_____________________________"
   ]
  },
  {
   "cell_type": "markdown",
   "metadata": {
    "id": "Tm4Hb1bAvH4e"
   },
   "source": [
    "<font color='RED'>(TO-DO)</font> [3 marks]"
   ]
  },
  {
   "cell_type": "code",
   "execution_count": 4,
   "metadata": {
    "colab": {
     "base_uri": "https://localhost:8080/"
    },
    "id": "qmSXn6G3l9Yt",
    "outputId": "ad1d025e-2cd5-4b32-fcf3-76ff0f6336d7"
   },
   "outputs": [],
   "source": [
    "nodeIDs=cora.iloc[:,0]\n",
    "graph = nx.DiGraph()\n",
    "for node in nodeIDs:\n",
    "    graph.add_node(str(node).strip())\n",
    "X = _______________________  # extract text features of all the nodes\n",
    "Y = _______________________  # extract the labels of all the nodes\n",
    "label_encoder = LabelEncoder()\n",
    "Y = label_encoder.fit_transform(Y)\n",
    "print(X.shape, Y.shape)"
   ]
  },
  {
   "cell_type": "markdown",
   "metadata": {
    "id": "15qZqLNdjV61"
   },
   "source": [
    "#### NOTE: every row of adj matrix cotains outgoing edges and column contains incoming edges"
   ]
  },
  {
   "cell_type": "code",
   "execution_count": 5,
   "metadata": {
    "id": "RpfmiXOKo99G"
   },
   "outputs": [],
   "source": [
    "edge_file_path = \"./cora.cites\"\n",
    "with open(edge_file_path,'r')as file:\n",
    "  for idx, line in enumerate(file):\n",
    "    nodes = line.strip().split()\n",
    "    node1=str(nodes[0])\n",
    "    node2=str(nodes[1])\n",
    "    graph.add_edge(node1, node2)\n",
    "adjacency_matrix = nx.adjacency_matrix(graph)\n",
    "A_dense = np.array(adjacency_matrix.todense())\n"
   ]
  },
  {
   "cell_type": "markdown",
   "metadata": {
    "id": "u6jsTGLfrwqc"
   },
   "source": [
    "## PageRank"
   ]
  },
  {
   "cell_type": "markdown",
   "metadata": {
    "id": "1csyJGNd9ceW"
   },
   "source": [
    "<font color='RED'>(TO-DO)[8 marks] </font>"
   ]
  },
  {
   "cell_type": "markdown",
   "metadata": {
    "id": "EzkrPDkI7xS8"
   },
   "source": [
    "NOTE: Construct transition matrix using following steps:\n",
    "1. If a row of adjacency matrix has no 1’s, then replace each element by 1/N. For all other rows proceed as follows.\n",
    "2. Divide each 1 in adjacency matrix by the number of 1’s in its row. Thus, if there is a row with three 1’s, then each of them is replaced by 1/3.\n",
    "3. Multiply the resulting matrix by 1 − α.\n",
    "4. Add α/N to every entry of the resulting matrix, to obtain new\n",
    "transition matrix.\n",
    "\n",
    "Thus, $M_{hat} = \\alpha * M + \\frac {1-\\alpha}{n}J$\n",
    "\n",
    "where $M$ is transition matrix, and $J$ is $n\\times n$ martrix of 1's."
   ]
  },
  {
   "cell_type": "code",
   "execution_count": null,
   "metadata": {
    "colab": {
     "base_uri": "https://localhost:8080/"
    },
    "id": "rgTBpi6_2JUJ",
    "outputId": "64f6d4c9-8f58-4cee-8d5e-024532de12db"
   },
   "outputs": [
    {
     "name": "stdout",
     "output_type": "stream",
     "text": [
      "[0.00021676 0.00019856 0.00030474 0.00019193 0.00019193 0.00024786\n",
      " 0.00025147 0.00020748 0.00033959 0.00055442]\n"
     ]
    }
   ],
   "source": [
    "iter=100\n",
    "n = len(A_dense)\n",
    "L = np.zeros_like(A_dense, dtype=float)\n",
    "alpha = 0.85\n",
    "for i in range(n):\n",
    "    out_links = np.sum(A_dense[i], axis=0)\n",
    "    # print(out_links)\n",
    "\n",
    "    #construct transition matrix\n",
    "    _____________________________\n",
    "    _____________________________\n",
    "    _____________________________\n",
    "\n",
    "\n",
    "pagerank = ________________      # Initialize the PageRank vector with uniform distribution\n",
    "\n",
    "for i in range(iter):\n",
    "    ___________________________________    # pagerank equation here\n",
    "    if np.linalg.norm(new_pagerank - pagerank, ord=1) < 1e-8:\n",
    "        # print(i)\n",
    "        break\n",
    "    pagerank = new_pagerank\n",
    "\n",
    "print(pagerank[:10])\n",
    "sorted_indices = np.argsort(-pagerank.flatten())\n",
    "sorted_vector = pagerank[sorted_indices]"
   ]
  },
  {
   "cell_type": "markdown",
   "metadata": {
    "id": "GyYo3DS6ry71"
   },
   "source": [
    "## Classification using KNN"
   ]
  },
  {
   "cell_type": "markdown",
   "metadata": {
    "id": "X9iD_ys7oa8K"
   },
   "source": [
    "<font color='RED'>(TO-DO) [10 marks]</font>"
   ]
  },
  {
   "cell_type": "code",
   "execution_count": null,
   "metadata": {
    "id": "dTmxnxVS6B01"
   },
   "outputs": [],
   "source": [
    "def knn_predict(X_train, y_train, X_test, k):         # manual implementation of KNN algorithm\n",
    "    predictions = []\n",
    "    for x in X_test:\n",
    "        distances = __________________________            # compute distance between training and test points\n",
    "        ________________________________________          # get the indices of closest k neighbours\n",
    "        ________________________________________          # get the labels of closest k neighbours\n",
    "        ________________________________________          # count the number of neighbours belonging to each class\n",
    "        ________________________________________          # assign the class to which maximum neighbours belong\n",
    "\n",
    "        predictions.append(prediction)\n",
    "    return np.array(predictions)\n"
   ]
  },
  {
   "cell_type": "markdown",
   "metadata": {
    "id": "WW0Mv4nAr2c8"
   },
   "source": [
    "### Random Split"
   ]
  },
  {
   "cell_type": "code",
   "execution_count": null,
   "metadata": {
    "colab": {
     "base_uri": "https://localhost:8080/"
    },
    "id": "BXFKV3ugtE8y",
    "outputId": "b7165eaa-bb09-407c-bc78-1612718f57ac"
   },
   "outputs": [
    {
     "data": {
      "text/plain": [
       "((2166, 1433), (2166,), (542, 1433), (542,))"
      ]
     },
     "execution_count": 209,
     "metadata": {},
     "output_type": "execute_result"
    }
   ],
   "source": [
    "X_train, X_test, y_train, y_test = train_test_split(X,Y, test_size=0.2, random_state=42, stratify=Y)\n",
    "X_train.shape, y_train.shape, X_test.shape, y_test.shape"
   ]
  },
  {
   "cell_type": "markdown",
   "metadata": {
    "id": "9gjizEEmR1GR"
   },
   "source": [
    "<font color='RED'>(TO-DO) [4 marks]</font>"
   ]
  },
  {
   "cell_type": "code",
   "execution_count": null,
   "metadata": {
    "id": "mlqhPOKosodq"
   },
   "outputs": [],
   "source": [
    "# Use the KNN classifier to make predictions\n",
    "accuracy_arr = []\n",
    "k_values = np.arange(1,6)\n",
    "# print(k_values)\n",
    "for k in k_values:\n",
    "  predictions_knn = knn_predict(__train features___, ___train labels___, _____test features__,k)\n",
    "  accuracy_knn = accuracy_score(______, __________)\n",
    "  print(f\"KNN Accuracy with {k} neighbours:\", accuracy_knn)\n",
    "  accuracy_arr.append(accuracy_knn)"
   ]
  },
  {
   "cell_type": "markdown",
   "metadata": {
    "id": "1CV7ZrF6vRMo"
   },
   "source": [
    "<font color='RED'>(TO-DO) [7 marks]</font>"
   ]
  },
  {
   "cell_type": "code",
   "execution_count": null,
   "metadata": {
    "id": "xh2seruVbG7s"
   },
   "outputs": [],
   "source": [
    "# classwise Precision, Recall\n",
    "_________________________________\n",
    "_________________________________\n",
    "_________________________________\n",
    "#write code to compute precision and recall for all classes"
   ]
  },
  {
   "cell_type": "markdown",
   "metadata": {
    "id": "GWHefQAnvS3J"
   },
   "source": [
    "<font color='RED'>(TO-DO) [2 marks]</font>"
   ]
  },
  {
   "cell_type": "code",
   "execution_count": null,
   "metadata": {
    "colab": {
     "base_uri": "https://localhost:8080/",
     "height": 472
    },
    "id": "eSKyiSPmyGVG",
    "outputId": "b91f4080-2fe6-4813-fc53-a671187ef669"
   },
   "outputs": [
    {
     "data": {
      "image/png": "[encoded data removed]",
      "text/plain": [
       "<Figure size 640x480 with 1 Axes>"
      ]
     },
     "metadata": {},
     "output_type": "display_data"
    }
   ],
   "source": [
    "# Plot k-values vs accuracy\n",
    "import matplotlib.pyplot as plt\n",
    "plt.plot(_____, _______, marker='o')   # fill up blank arguements\n",
    "plt.title('k_values vs. Accuracy')\n",
    "plt.xlabel('k_value')\n",
    "plt.ylabel('Accuracy')\n",
    "plt.show()"
   ]
  },
  {
   "cell_type": "markdown",
   "metadata": {
    "id": "YRYz3Lzjr45f"
   },
   "source": [
    "### PageRank based split"
   ]
  },
  {
   "cell_type": "markdown",
   "metadata": {
    "id": "mjUAucSzvUu7"
   },
   "source": [
    "<font color='RED'>(TO-DO) [4 marks]</font>"
   ]
  },
  {
   "cell_type": "code",
   "execution_count": null,
   "metadata": {
    "id": "pUzOfr2N-ue7"
   },
   "outputs": [],
   "source": [
    "# First split the datapoints based on pagerank value. Split into ratio 80/20.\n",
    "# For example: Top 80% datapoints with highest pagerank form the train data and rest 20% form test data.\n",
    "___________________________\n",
    "___________________________   # code for splitting data\n",
    "___________________________\n",
    "X_train_sorted = __________________\n",
    "X_test_sorted = ___________________\n",
    "y_train_sorted = ___________________\n",
    "y_test_sorted = ___________________\n",
    "X_train2.shape, X_test2.shape, y_train2.shape, y_test2.shape"
   ]
  },
  {
   "cell_type": "code",
   "execution_count": null,
   "metadata": {
    "id": "gX6tI2zYLOnM"
   },
   "outputs": [],
   "source": [
    "# Apply KNN classifier in the similar way as above"
   ]
  },
  {
   "cell_type": "code",
   "execution_count": null,
   "metadata": {
    "id": "wa-AsnF4xk9k"
   },
   "outputs": [],
   "source": [
    "# Plot k-values vs accuracy as above\n"
   ]
  },
  {
   "cell_type": "markdown",
   "metadata": {
    "id": "c18MgEIxBc4n"
   },
   "source": [
    "## Find out Top-5 cited papers in entire graph utilizing HITS\n"
   ]
  },
  {
   "cell_type": "markdown",
   "metadata": {
    "id": "7ONab9XQpqly"
   },
   "source": [
    "<font color='RED'>(TO-DO) [5 marks]</font>"
   ]
  },
  {
   "cell_type": "code",
   "execution_count": null,
   "metadata": {
    "id": "FISvRXF-Q1A_"
   },
   "outputs": [],
   "source": []
  },
  {
   "cell_type": "code",
   "execution_count": null,
   "metadata": {
    "id": "fjya6-NABjfB"
   },
   "outputs": [],
   "source": [
    "# find the top cited papers in whole graph\n",
    "_______________________________________\n",
    "_______________________________________\n",
    "for i in range(5):\n",
    "    print(f\"PaperID: {________________}, Score: {__________________}\")"
   ]
  },
  {
   "cell_type": "markdown",
   "metadata": {
    "id": "4AbtZ9RiBkX-"
   },
   "source": [
    "## Top-5 cited papers in class \"Neural-networks\" and \"Genetic-Algorithms\" respectively"
   ]
  },
  {
   "cell_type": "markdown",
   "metadata": {
    "id": "ps64SBSWTf4e"
   },
   "source": [
    "<font color='RED'>(TO-DO) [5 marks]</font>"
   ]
  },
  {
   "cell_type": "code",
   "execution_count": null,
   "metadata": {
    "id": "BezNG_XnTfjp"
   },
   "outputs": [],
   "source": []
  },
  {
   "cell_type": "code",
   "execution_count": null,
   "metadata": {
    "id": "WDge37bLBydA"
   },
   "outputs": [],
   "source": [
    "# Find the top cited papers in classes \"Neural Networks\" and \"Genetic ALgorithms\"\n",
    "__________________________________\n",
    "__________________________________\n",
    "__________________________________\n",
    "\n"
   ]
  }
 ],
 "metadata": {
  "colab": {
   "provenance": []
  },
  "kernelspec": {
   "display_name": "Python 3 (ipykernel)",
   "language": "python",
   "name": "python3"
  },
  "language_info": {
   "codemirror_mode": {
    "name": "ipython",
    "version": 3
   },
   "file_extension": ".py",
   "mimetype": "text/x-python",
   "name": "python",
   "nbconvert_exporter": "python",
   "pygments_lexer": "ipython3",
   "version": "3.11.5"
  }
 },
 "nbformat": 4,
 "nbformat_minor": 1
}
