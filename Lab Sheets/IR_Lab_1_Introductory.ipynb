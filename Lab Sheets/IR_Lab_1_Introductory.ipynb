{
  "nbformat": 4,
  "nbformat_minor": 0,
  "metadata": {
    "colab": {
      "provenance": []
    },
    "kernelspec": {
      "name": "python3",
      "display_name": "Python 3"
    },
    "language_info": {
      "name": "python"
    }
  },
  "cells": [
    {
      "cell_type": "markdown",
      "source": [
        "## Information Retrieval CSF469\n",
        "##Lab Session - 1\n",
        "## Date - 24/01/2024\n",
        "##<font color ='GREEN'>Non-Evaluative</font>\n",
        "In this lab session, we introduce and explore numpy and pandas libraries.\n",
        "\n",
        "## Students have to write their code in blank spaces marked under <font color = \"RED\">TO-DO</font> section\n",
        "\n",
        "\n"
      ],
      "metadata": {
        "id": "yUJLKBBT7HqI"
      }
    },
    {
      "cell_type": "markdown",
      "source": [
        "# Numpy"
      ],
      "metadata": {
        "id": "Emc74UsrHnHj"
      }
    },
    {
      "cell_type": "markdown",
      "metadata": {
        "id": "d5d28ef1"
      },
      "source": [
        "## What is NumPy?\n",
        "- NumPy, an acronym for \"Numerical Python,\" is a Python package.\n",
        "- It is the primary library for scientific computing and includes a robust n-dimensional array object.\n",
        "- Additionally, it helps with random number generation, linear algebra, etc.\n",
        "- Useful functions for linear algebra, Fourier transform, and random numbers.\n",
        "- A NumPy array can also be employed as a productive multi-dimensional generic data container.\n"
      ]
    },
    {
      "cell_type": "markdown",
      "metadata": {
        "id": "5b45b5fe"
      },
      "source": [
        "## Keypoints\n",
        "- NumPy arrays have a fixed size at creation, unlike Python lists(which can grow dynamically).\n",
        "- Changing the size of an `ndarray` will create a new array and delete the original.\n",
        "- The elements in a NumPy array are all required to be of the same data type and thus will be the same size in memory(**Homogenous**)\n",
        "- NumPy arrays facilitate advance mathematical and other types of operations on large numbers of data(**Faster**)"
      ]
    },
    {
      "cell_type": "markdown",
      "metadata": {
        "id": "1652e6b3"
      },
      "source": [
        "## NumPy Array\n",
        "Numpy array is a powerful N-dimensional array object which is in the form of rows and columns. We can initialize numpy arrays from nested Python lists and access it elements. In order to perform these numpy operations.\n",
        "\n",
        "## N-dimensional Array\n",
        "- 1Dimensional(1D) Array\n",
        "- 2Dimensional(2D) Array\n",
        "- 3Dimensional(3D) Array\n",
        "\n",
        "\n",
        "![image.png](data:image/png;base64,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)\n"
      ]
    },
    {
      "cell_type": "markdown",
      "metadata": {
        "id": "9e3627d6"
      },
      "source": [
        "## Why Numpy?\n",
        "- Less Memory\n",
        "- Fast\n",
        "- Convenient"
      ]
    },
    {
      "cell_type": "markdown",
      "metadata": {
        "id": "9b84fb26"
      },
      "source": [
        "## Why NumPy is Fast?\n",
        "__Vectorization__\n",
        "\n",
        "Vectorization describes the absence of any explicit looping, indexing etc; in the code-these things are taking place, of course, just behind the scenes in optimized, pre-compiled C code.\n",
        "\n",
        "__Broadcasting__\n",
        "\n",
        "The term broadcasting describes how NumPy treats arrays with different shapes during arithmetic operations. Subject to certain constrains, the smaller array is \"broadcast\" across the larger array so that they have compatible shapes."
      ]
    },
    {
      "cell_type": "markdown",
      "source": [
        "**Installing NumPy**"
      ],
      "metadata": {
        "id": "8ERG2fd6EqU5"
      }
    },
    {
      "cell_type": "code",
      "source": [
        "!pip install numpy"
      ],
      "metadata": {
        "id": "QE2h3VZDEsSW",
        "colab": {
          "base_uri": "https://localhost:8080/"
        },
        "outputId": "10b9ff0b-9007-427e-ecf3-d34bdb0a097e"
      },
      "execution_count": null,
      "outputs": [
        {
          "output_type": "stream",
          "name": "stdout",
          "text": [
            "Requirement already satisfied: numpy in /usr/local/lib/python3.10/dist-packages (1.23.5)\n"
          ]
        }
      ]
    },
    {
      "cell_type": "markdown",
      "source": [
        "**How to import NumPy**"
      ],
      "metadata": {
        "id": "OtMaXp4zEyfL"
      }
    },
    {
      "cell_type": "code",
      "source": [
        "import numpy as np"
      ],
      "metadata": {
        "id": "Ihy3wOGTE0nr"
      },
      "execution_count": null,
      "outputs": []
    },
    {
      "cell_type": "markdown",
      "source": [
        "### Array - Create, print length, slicing array, iterating an array"
      ],
      "metadata": {
        "id": "lnOcLF6_9Jsx"
      }
    },
    {
      "cell_type": "code",
      "source": [
        "# create array 1D and 2D\n",
        "arr1D = np.array([1, 2, 3, 4])\n",
        "print(arr1D)\n",
        "\n",
        "zeros_arr = np.zeros(10) # creates an array of zeros\n",
        "print(zeros_arr)\n",
        "\n",
        "ones_arr = np.ones(10)  # creates an array of ones\n",
        "print(ones_arr)\n",
        "\n",
        "rand_arr  = np.random.random(10)  # creates a random array of size 10; elements lie between 0 and 1\n",
        "print(rand_arr)\n",
        "\n",
        "iden_arr = np.eye(3) # creates a 3x3 identity matrix\n",
        "print(iden_arr)\n",
        "\n",
        "# create an array of size similar to iden_arr with all elements as 5.\n",
        "arr_of_5 = np.full_like(iden_arr, 5)"
      ],
      "metadata": {
        "id": "WDsrGLOn_PcR",
        "colab": {
          "base_uri": "https://localhost:8080/"
        },
        "outputId": "f95c069d-ab5e-40f5-af2f-679cde9ad0c6"
      },
      "execution_count": null,
      "outputs": [
        {
          "output_type": "stream",
          "name": "stdout",
          "text": [
            "[1 2 3 4]\n",
            "[0. 0. 0. 0. 0. 0. 0. 0. 0. 0.]\n",
            "[1. 1. 1. 1. 1. 1. 1. 1. 1. 1.]\n",
            "[0.10001682 0.97992256 0.50255004 0.93091759 0.19741312 0.16977666\n",
            " 0.59836459 0.70714795 0.90653529 0.46155591]\n",
            "[[1. 0. 0.]\n",
            " [0. 1. 0.]\n",
            " [0. 0. 1.]]\n"
          ]
        }
      ]
    },
    {
      "cell_type": "code",
      "source": [
        "# create an array with elements between 0 and some number, 4 here.\n",
        "range_arr = np.arange(4)\n",
        "print(range_arr)"
      ],
      "metadata": {
        "id": "nF8Vc8YHGZhJ",
        "colab": {
          "base_uri": "https://localhost:8080/"
        },
        "outputId": "1bdfd02a-9566-4c9f-984f-4457b395951f"
      },
      "execution_count": null,
      "outputs": [
        {
          "output_type": "stream",
          "name": "stdout",
          "text": [
            "[0 1 2 3]\n"
          ]
        }
      ]
    },
    {
      "cell_type": "code",
      "source": [
        "#print length\n",
        "print(len(arr1D))\n",
        "print(arr1D.size)\n",
        "\n",
        "# Slicing 1D array\n",
        "print(arr1D[2:4])\n",
        "\n",
        "# iterating array\n",
        "for i in arr1D:\n",
        "    print(i)"
      ],
      "metadata": {
        "id": "YgyWqZWG9KNC",
        "colab": {
          "base_uri": "https://localhost:8080/"
        },
        "outputId": "3d2d8094-aa4d-4e12-fd75-d7616a89117d"
      },
      "execution_count": null,
      "outputs": [
        {
          "output_type": "stream",
          "name": "stdout",
          "text": [
            "4\n",
            "4\n",
            "[3 4]\n",
            "1\n",
            "2\n",
            "3\n",
            "4\n"
          ]
        }
      ]
    },
    {
      "cell_type": "code",
      "source": [
        "# create 2-Dimensional array\n",
        "arr2D = np.array([ [1, 2, 3, 4], [5, 6, 7, 8], [9, 10, 11, 12] ])\n",
        "print(arr2D)"
      ],
      "metadata": {
        "colab": {
          "base_uri": "https://localhost:8080/"
        },
        "id": "KDaUDyKsAugL",
        "outputId": "5427cbe7-a5c5-4f54-a063-eeef1c220614"
      },
      "execution_count": null,
      "outputs": [
        {
          "output_type": "stream",
          "name": "stdout",
          "text": [
            "[[ 1  2  3  4]\n",
            " [ 5  6  7  8]\n",
            " [ 9 10 11 12]]\n"
          ]
        }
      ]
    },
    {
      "cell_type": "markdown",
      "source": [
        "#<font color = \"RED\"> TO-DO </font>\n"
      ],
      "metadata": {
        "id": "_xs-byHDxsFH"
      }
    },
    {
      "cell_type": "code",
      "source": [
        "print(____________)  # print number of elements in arr2D ;\n",
        "print(____________)  # print the shape of arr2D;"
      ],
      "metadata": {
        "id": "W7RBFG1LxzTe"
      },
      "execution_count": null,
      "outputs": []
    },
    {
      "cell_type": "code",
      "source": [
        "#slicing 2D array\n",
        "print(arr2D[:2,1:])\n",
        "print(arr2D[:,:2])  # print first two columns\n",
        "print(arr2D[2])  # print row with index 2"
      ],
      "metadata": {
        "id": "Qk49utoeBCf2",
        "colab": {
          "base_uri": "https://localhost:8080/"
        },
        "outputId": "37c36b14-35f8-4f3a-ad1e-148bd5f6e9c6"
      },
      "execution_count": null,
      "outputs": [
        {
          "output_type": "stream",
          "name": "stdout",
          "text": [
            "[[2 3 4]\n",
            " [6 7 8]]\n",
            "[[ 1  2]\n",
            " [ 5  6]\n",
            " [ 9 10]]\n",
            "[ 9 10 11 12]\n"
          ]
        }
      ]
    },
    {
      "cell_type": "markdown",
      "source": [
        " array from excel"
      ],
      "metadata": {
        "id": "GXsiL7reHcdE"
      }
    },
    {
      "cell_type": "markdown",
      "source": [
        "Reshaping an array"
      ],
      "metadata": {
        "id": "fgUjadAnFWDc"
      }
    },
    {
      "cell_type": "code",
      "source": [
        "A = np.arange(12)  # creates a 1D of size 12\n",
        "print(A)\n",
        "\n",
        "# Reshape array A into a 3*4 matrix\n",
        "A = A.reshape((3,4))\n",
        "print(A)\n",
        "\n",
        "# Reshape 'A' into an array with 2 rows and the appropriate number of columns\n",
        "A =  A.reshape((2,-1))\n",
        "print(A)\n",
        "\n",
        "# Now convert the two dimensional array back to one dimensional\n",
        "A = A.flatten()\n",
        "print(A)"
      ],
      "metadata": {
        "id": "8HS4uLx5FYq-",
        "colab": {
          "base_uri": "https://localhost:8080/"
        },
        "outputId": "d60410b0-1a54-438a-a236-f646c96592e6"
      },
      "execution_count": null,
      "outputs": [
        {
          "output_type": "stream",
          "name": "stdout",
          "text": [
            "[ 0  1  2  3  4  5  6  7  8  9 10 11]\n",
            "[[ 0  1  2  3]\n",
            " [ 4  5  6  7]\n",
            " [ 8  9 10 11]]\n",
            "[[ 0  1  2  3  4  5]\n",
            " [ 6  7  8  9 10 11]]\n",
            "[ 0  1  2  3  4  5  6  7  8  9 10 11]\n"
          ]
        }
      ]
    },
    {
      "cell_type": "markdown",
      "source": [
        "Some more operations on arrays"
      ],
      "metadata": {
        "id": "bQ-uQ2voGYk4"
      }
    },
    {
      "cell_type": "code",
      "source": [
        "print(arr2D)\n",
        "print(arr2D.min()) #find minimum in array\n",
        "\n",
        "# Find the maximum value of each row.\n",
        "print(arr2D.max(axis = 1))\n",
        "\n",
        "# Compute the sum of each column.\n",
        "print(arr2D.sum(axis=0))\n",
        "\n",
        "# Transpose the arr2D array\n",
        "print(arr2D.T)\n",
        "\n",
        "arr = np.array([2, 1, 5, 3, 7, 4, 6, 8])\n",
        "# sort the numbers in ascending order\n",
        "print(np.sort(arr))\n",
        "\n",
        "# Column-wise normalize array - sum of each column is 1\n",
        "Arr_norm = arr2D/(arr2D.sum(axis=0))\n",
        "Arr_norm"
      ],
      "metadata": {
        "id": "II_jBGM7GiOn",
        "colab": {
          "base_uri": "https://localhost:8080/"
        },
        "outputId": "350637fc-77ff-4ae7-89ab-2ada45c5da3c"
      },
      "execution_count": null,
      "outputs": [
        {
          "output_type": "stream",
          "name": "stdout",
          "text": [
            "[[ 1  2  3  4]\n",
            " [ 5  6  7  8]\n",
            " [ 9 10 11 12]]\n",
            "1\n",
            "[ 4  8 12]\n",
            "[15 18 21 24]\n",
            "[[ 1  5  9]\n",
            " [ 2  6 10]\n",
            " [ 3  7 11]\n",
            " [ 4  8 12]]\n",
            "[1 2 3 4 5 6 7 8]\n"
          ]
        },
        {
          "output_type": "execute_result",
          "data": {
            "text/plain": [
              "array([[0.06666667, 0.11111111, 0.14285714, 0.16666667],\n",
              "       [0.33333333, 0.33333333, 0.33333333, 0.33333333],\n",
              "       [0.6       , 0.55555556, 0.52380952, 0.5       ]])"
            ]
          },
          "metadata": {},
          "execution_count": 20
        }
      ]
    },
    {
      "cell_type": "code",
      "source": [
        "# create an array with elements [1,2,3,1,1,2,3,4,3,4,2,1] and then print the unique elements in array. Also print the count of each unique element in array\n",
        "array = np.array([1,2,3,1,1,2,3,4,3,4,2,1])\n",
        "unique_ele, count = np.unique(array, return_counts = True)\n",
        "print(unique_ele, count)"
      ],
      "metadata": {
        "id": "Gr5G9NmcNH7a",
        "colab": {
          "base_uri": "https://localhost:8080/"
        },
        "outputId": "361ffaac-5588-41e8-87fd-d80b104df804"
      },
      "execution_count": null,
      "outputs": [
        {
          "output_type": "stream",
          "name": "stdout",
          "text": [
            "[1 2 3 4] [4 3 3 2]\n"
          ]
        }
      ]
    },
    {
      "cell_type": "markdown",
      "source": [
        "## Lists : A list is the Python equivalent of an array, but is resizeable and can contain elements of different types"
      ],
      "metadata": {
        "id": "gfAV8jueH65_"
      }
    },
    {
      "cell_type": "code",
      "source": [
        "L1 = [3, 1, 2]    # Create a list\n",
        "print(L1)\n",
        "print(L1[2])      # Prints element at index 2\n",
        "print(L1[-1])     # Negative indices count from the end of the list;\n",
        "\n",
        "L1.append(4)  # Add a new element to the end of the list\n",
        "print(L1)\n",
        "\n",
        "x = L1.pop()      # Remove and return the last element of the list\n",
        "print(L1,x)"
      ],
      "metadata": {
        "colab": {
          "base_uri": "https://localhost:8080/"
        },
        "id": "t3-l0-KFH9Pz",
        "outputId": "83d89776-d85c-4761-b873-6165764400ff"
      },
      "execution_count": null,
      "outputs": [
        {
          "output_type": "stream",
          "name": "stdout",
          "text": [
            "[3, 1, 2]\n",
            "2\n",
            "2\n",
            "[3, 1, 2, 4]\n",
            "[3, 1, 2] 4\n"
          ]
        }
      ]
    },
    {
      "cell_type": "markdown",
      "source": [
        "**What’s the difference between a Python list and a NumPy array?**"
      ],
      "metadata": {
        "id": "XkBDWS2sFN9w"
      }
    },
    {
      "cell_type": "markdown",
      "source": [
        "NumPy gives you an enormous range of fast and efficient ways of creating arrays and manipulating numerical data inside them. While a Python list can contain different data types within a single list, all of the elements in a NumPy array should be homogeneous. The mathematical operations that are meant to be performed on arrays would be extremely inefficient if the arrays weren’t homogeneous. NumPy arrays are faster and more compact than Python lists. An array consumes less memory and is convenient to use. NumPy uses much less memory to store data.\n",
        "\n",
        "One more major difference in Python List and NumPy array is that Python list is mutable and its size can be changed on the run (addition and deletion of elements is allowed), whereas NumPy array is immutable."
      ],
      "metadata": {
        "id": "wzLIXFH0FVX7"
      }
    },
    {
      "cell_type": "markdown",
      "source": [
        "**NumPy arrays behave differently with respect to the binary arithmetic operators + and * than Python lists do. For lists, + concatenates two lists and * replicates a list by a scalar amount. In contrast, these operations are component-wise for NumPy arrays.**"
      ],
      "metadata": {
        "id": "naTR-ZWjC78K"
      }
    },
    {
      "cell_type": "code",
      "source": [
        "x = [1, 2, 3]  # python list\n",
        "y = [4, 5, 6]  # python list\n",
        "print(x + y)\n",
        "print(x * 5)\n",
        "\n",
        "a = np.array([1, 2, 3])\n",
        "b =  np.array([4, 5, 6])\n",
        "print(a + b)\n",
        "print(a * 5)    # This operation is known as Broadcasting\n",
        "print(a * b)"
      ],
      "metadata": {
        "colab": {
          "base_uri": "https://localhost:8080/"
        },
        "id": "mvsk7UYiDJHd",
        "outputId": "74b931e7-1f88-4004-de82-cb65f6019aba"
      },
      "execution_count": null,
      "outputs": [
        {
          "output_type": "stream",
          "name": "stdout",
          "text": [
            "[1, 2, 3, 4, 5, 6]\n",
            "[1, 2, 3, 1, 2, 3, 1, 2, 3, 1, 2, 3, 1, 2, 3]\n",
            "[5 7 9]\n",
            "[ 5 10 15]\n",
            "[ 4 10 18]\n"
          ]
        }
      ]
    },
    {
      "cell_type": "markdown",
      "source": [
        "#<font color = \"RED\"> TO-DO </font>"
      ],
      "metadata": {
        "id": "V0hd1R1CxHzw"
      }
    },
    {
      "cell_type": "code",
      "source": [
        "# now explore both arrays in above cell for subtraction and divison operations\n",
        "          # write your code here"
      ],
      "metadata": {
        "id": "oWcnwZbrxUtB"
      },
      "execution_count": null,
      "outputs": []
    },
    {
      "cell_type": "markdown",
      "source": [
        "## Dictionaries: A dictionary stores (key, value) pairs,"
      ],
      "metadata": {
        "id": "0wPhacE7I6Dh"
      }
    },
    {
      "cell_type": "code",
      "source": [
        "Dict = {'BITS': 'Pilani', 'IIT': 'Delhi'}  # Create a new dictionary with some data\n",
        "print(Dict['BITS'])       # Get an entry from a dictionary; prints \"Pilani\"\n",
        "print('BITS' in Dict)     # Check if a dictionary has a given key; prints \"True\"\n",
        "\n",
        "Dict['NIT'] = 'Trichy'     # Set an entry in a dictionary\n",
        "print(Dict['NIT'])      # Prints \"Trichy\"\n",
        "print(Dict.get('NIT', 'N/A'))    # Get an element, if elements exits, prints its value else N/A..  prints \"Trichy\"\n",
        "del Dict['NIT']         # Remove an element from a dictionary\n",
        "print(Dict.get('NIT', 'N/A')) # prints N/A"
      ],
      "metadata": {
        "colab": {
          "base_uri": "https://localhost:8080/"
        },
        "id": "Yf87r9J6JMm_",
        "outputId": "82915af6-07e5-4426-a2d9-2a16ada06153"
      },
      "execution_count": null,
      "outputs": [
        {
          "output_type": "stream",
          "name": "stdout",
          "text": [
            "Pilani\n",
            "True\n",
            "Trichy\n",
            "Trichy\n",
            "N/A\n"
          ]
        }
      ]
    },
    {
      "cell_type": "markdown",
      "source": [
        "# Pandas"
      ],
      "metadata": {
        "id": "e87o0b6-Hjze"
      }
    },
    {
      "cell_type": "markdown",
      "source": [
        "\n",
        "# What is Pandas?\n",
        "\n",
        "###Pandas is a Python library designed for data manipulation and analysis. It provides high-performance, easy-to-use data structures such as Series and DataFrame, which are built on top of the NumPy library. Here are some key points about Pandas:\n",
        "\n",
        "*   Pandas allows for easy indexing, slicing, and filtering of data.\n",
        "*   It provides functions for reshaping, merging, and aggregating data.\n",
        "*   Missing Data Handling\n",
        "*   Pandas supports the splitting of data into groups based on some criteria using groupby().\n",
        "*   Pandas supports reading and writing data from/to various file formats, including CSV, Excel, SQL databases, and more.\n"
      ],
      "metadata": {
        "id": "Bsl4v4j0c9WA"
      }
    },
    {
      "cell_type": "markdown",
      "source": [
        "**Installing Pandas**"
      ],
      "metadata": {
        "id": "zQXXb_MKeYda"
      }
    },
    {
      "cell_type": "code",
      "source": [
        "!pip install pandas"
      ],
      "metadata": {
        "id": "Brga4l3PeXhL"
      },
      "execution_count": null,
      "outputs": []
    },
    {
      "cell_type": "markdown",
      "source": [
        "**Importing Pandas**\n"
      ],
      "metadata": {
        "id": "cQnkfc3Ueq-u"
      }
    },
    {
      "cell_type": "code",
      "execution_count": null,
      "metadata": {
        "id": "BqmfbSeKboQh"
      },
      "outputs": [],
      "source": [
        "# importing pandas\n",
        "import pandas as pd"
      ]
    },
    {
      "cell_type": "markdown",
      "source": [
        "**Creating Data Frame, printing and describing**"
      ],
      "metadata": {
        "id": "prZ5e1-cyVOt"
      }
    },
    {
      "cell_type": "code",
      "source": [
        "# Creating a DataFrame from a dictionary\n",
        "data = {'Name': ['Alice', 'Bob', 'Charlie'],\n",
        "        'Age': [25, 30, 35],\n",
        "        'City': ['New York', 'San Francisco', 'Los Angeles']}\n",
        "\n",
        "df = pd.DataFrame(data)\n",
        "print(df)"
      ],
      "metadata": {
        "id": "cvveVi9mbzFr",
        "colab": {
          "base_uri": "https://localhost:8080/"
        },
        "outputId": "68e6f2b2-9638-4242-cf13-734d82ec0148"
      },
      "execution_count": null,
      "outputs": [
        {
          "output_type": "stream",
          "name": "stdout",
          "text": [
            "      Name  Age           City\n",
            "0    Alice   25       New York\n",
            "1      Bob   30  San Francisco\n",
            "2  Charlie   35    Los Angeles\n"
          ]
        }
      ]
    },
    {
      "cell_type": "code",
      "source": [
        "# Display the first five rows of the DataFrame\n",
        "print(df.head())\n",
        "# Display the last five rows of the DataFrame\n",
        "# print(df.tail())\n",
        "\n",
        "# Display basic statistics of the data\n",
        "print(df.describe())"
      ],
      "metadata": {
        "colab": {
          "base_uri": "https://localhost:8080/"
        },
        "id": "uwlJCaizb0oc",
        "outputId": "395c5b24-22a9-49ef-ca1d-ba3354cef3d5"
      },
      "execution_count": null,
      "outputs": [
        {
          "output_type": "stream",
          "name": "stdout",
          "text": [
            "      Name  Age           City\n",
            "0    Alice   25       New York\n",
            "1      Bob   30  San Francisco\n",
            "2  Charlie   35    Los Angeles\n",
            "        Age\n",
            "count   3.0\n",
            "mean   30.0\n",
            "std     5.0\n",
            "min    25.0\n",
            "25%    27.5\n",
            "50%    30.0\n",
            "75%    32.5\n",
            "max    35.0\n"
          ]
        }
      ]
    },
    {
      "cell_type": "markdown",
      "source": [
        "**Some functions on columns**\n",
        "## <font color = \"red\"> TO-DO</font>"
      ],
      "metadata": {
        "id": "funsUowSy453"
      }
    },
    {
      "cell_type": "code",
      "source": [
        "# Selecting a single column\n",
        "age_column = df['Age']\n",
        "\n",
        "# Selecting multiple columns. Select Age and City columns\n",
        "# subset = df[__________] TO-DO\n",
        "\n",
        "# Selecting rows based on a condition\n",
        "filtered_data = df[df['Age'] > 30]\n",
        "\n",
        "print(age_column)\n",
        "# print(subset)\n",
        "print(filtered_data)"
      ],
      "metadata": {
        "colab": {
          "base_uri": "https://localhost:8080/"
        },
        "id": "pZlVDllwb-nc",
        "outputId": "f3e43560-2c67-443b-9e22-8ced1a43858d"
      },
      "execution_count": null,
      "outputs": [
        {
          "output_type": "stream",
          "name": "stdout",
          "text": [
            "0    25\n",
            "1    30\n",
            "2    35\n",
            "Name: Age, dtype: int64\n",
            "      Name  Age         City\n",
            "2  Charlie   35  Los Angeles\n"
          ]
        }
      ]
    },
    {
      "cell_type": "code",
      "source": [
        "# Sort DataFrame by values in a column.\n",
        "df.sort_values('Age', ascending=False)"
      ],
      "metadata": {
        "colab": {
          "base_uri": "https://localhost:8080/",
          "height": 143
        },
        "id": "IStKBwEwfQqG",
        "outputId": "03a14b1e-c840-4bb9-fcaa-2e8d1565ee92"
      },
      "execution_count": null,
      "outputs": [
        {
          "output_type": "execute_result",
          "data": {
            "text/plain": [
              "      Name  Age           City\n",
              "2  Charlie   35    Los Angeles\n",
              "1      Bob   30  San Francisco\n",
              "0    Alice   25       New York"
            ],
            "text/html": [
              "\n",
              "  <div id=\"df-654227f4-2925-4d02-8af3-19098b09928c\" class=\"colab-df-container\">\n",
              "    <div>\n",
              "<style scoped>\n",
              "    .dataframe tbody tr th:only-of-type {\n",
              "        vertical-align: middle;\n",
              "    }\n",
              "\n",
              "    .dataframe tbody tr th {\n",
              "        vertical-align: top;\n",
              "    }\n",
              "\n",
              "    .dataframe thead th {\n",
              "        text-align: right;\n",
              "    }\n",
              "</style>\n",
              "<table border=\"1\" class=\"dataframe\">\n",
              "  <thead>\n",
              "    <tr style=\"text-align: right;\">\n",
              "      <th></th>\n",
              "      <th>Name</th>\n",
              "      <th>Age</th>\n",
              "      <th>City</th>\n",
              "    </tr>\n",
              "  </thead>\n",
              "  <tbody>\n",
              "    <tr>\n",
              "      <th>2</th>\n",
              "      <td>Charlie</td>\n",
              "      <td>35</td>\n",
              "      <td>Los Angeles</td>\n",
              "    </tr>\n",
              "    <tr>\n",
              "      <th>1</th>\n",
              "      <td>Bob</td>\n",
              "      <td>30</td>\n",
              "      <td>San Francisco</td>\n",
              "    </tr>\n",
              "    <tr>\n",
              "      <th>0</th>\n",
              "      <td>Alice</td>\n",
              "      <td>25</td>\n",
              "      <td>New York</td>\n",
              "    </tr>\n",
              "  </tbody>\n",
              "</table>\n",
              "</div>\n",
              "    <div class=\"colab-df-buttons\">\n",
              "\n",
              "  <div class=\"colab-df-container\">\n",
              "    <button class=\"colab-df-convert\" onclick=\"convertToInteractive('df-654227f4-2925-4d02-8af3-19098b09928c')\"\n",
              "            title=\"Convert this dataframe to an interactive table.\"\n",
              "            style=\"display:none;\">\n",
              "\n",
              "  <svg xmlns=\"http://www.w3.org/2000/svg\" height=\"24px\" viewBox=\"0 -960 960 960\">\n",
              "    <path d=\"M120-120v-720h720v720H120Zm60-500h600v-160H180v160Zm220 220h160v-160H400v160Zm0 220h160v-160H400v160ZM180-400h160v-160H180v160Zm440 0h160v-160H620v160ZM180-180h160v-160H180v160Zm440 0h160v-160H620v160Z\"/>\n",
              "  </svg>\n",
              "    </button>\n",
              "\n",
              "  <style>\n",
              "    .colab-df-container {\n",
              "      display:flex;\n",
              "      gap: 12px;\n",
              "    }\n",
              "\n",
              "    .colab-df-convert {\n",
              "      background-color: #E8F0FE;\n",
              "      border: none;\n",
              "      border-radius: 50%;\n",
              "      cursor: pointer;\n",
              "      display: none;\n",
              "      fill: #1967D2;\n",
              "      height: 32px;\n",
              "      padding: 0 0 0 0;\n",
              "      width: 32px;\n",
              "    }\n",
              "\n",
              "    .colab-df-convert:hover {\n",
              "      background-color: #E2EBFA;\n",
              "      box-shadow: 0px 1px 2px rgba(60, 64, 67, 0.3), 0px 1px 3px 1px rgba(60, 64, 67, 0.15);\n",
              "      fill: #174EA6;\n",
              "    }\n",
              "\n",
              "    .colab-df-buttons div {\n",
              "      margin-bottom: 4px;\n",
              "    }\n",
              "\n",
              "    [theme=dark] .colab-df-convert {\n",
              "      background-color: #3B4455;\n",
              "      fill: #D2E3FC;\n",
              "    }\n",
              "\n",
              "    [theme=dark] .colab-df-convert:hover {\n",
              "      background-color: #434B5C;\n",
              "      box-shadow: 0px 1px 3px 1px rgba(0, 0, 0, 0.15);\n",
              "      filter: drop-shadow(0px 1px 2px rgba(0, 0, 0, 0.3));\n",
              "      fill: #FFFFFF;\n",
              "    }\n",
              "  </style>\n",
              "\n",
              "    <script>\n",
              "      const buttonEl =\n",
              "        document.querySelector('#df-654227f4-2925-4d02-8af3-19098b09928c button.colab-df-convert');\n",
              "      buttonEl.style.display =\n",
              "        google.colab.kernel.accessAllowed ? 'block' : 'none';\n",
              "\n",
              "      async function convertToInteractive(key) {\n",
              "        const element = document.querySelector('#df-654227f4-2925-4d02-8af3-19098b09928c');\n",
              "        const dataTable =\n",
              "          await google.colab.kernel.invokeFunction('convertToInteractive',\n",
              "                                                    [key], {});\n",
              "        if (!dataTable) return;\n",
              "\n",
              "        const docLinkHtml = 'Like what you see? Visit the ' +\n",
              "          '<a target=\"_blank\" href=https://colab.research.google.com/notebooks/data_table.ipynb>data table notebook</a>'\n",
              "          + ' to learn more about interactive tables.';\n",
              "        element.innerHTML = '';\n",
              "        dataTable['output_type'] = 'display_data';\n",
              "        await google.colab.output.renderOutput(dataTable, element);\n",
              "        const docLink = document.createElement('div');\n",
              "        docLink.innerHTML = docLinkHtml;\n",
              "        element.appendChild(docLink);\n",
              "      }\n",
              "    </script>\n",
              "  </div>\n",
              "\n",
              "\n",
              "<div id=\"df-504c7ff9-fe6f-447b-881a-b58910a82938\">\n",
              "  <button class=\"colab-df-quickchart\" onclick=\"quickchart('df-504c7ff9-fe6f-447b-881a-b58910a82938')\"\n",
              "            title=\"Suggest charts\"\n",
              "            style=\"display:none;\">\n",
              "\n",
              "<svg xmlns=\"http://www.w3.org/2000/svg\" height=\"24px\"viewBox=\"0 0 24 24\"\n",
              "     width=\"24px\">\n",
              "    <g>\n",
              "        <path d=\"M19 3H5c-1.1 0-2 .9-2 2v14c0 1.1.9 2 2 2h14c1.1 0 2-.9 2-2V5c0-1.1-.9-2-2-2zM9 17H7v-7h2v7zm4 0h-2V7h2v10zm4 0h-2v-4h2v4z\"/>\n",
              "    </g>\n",
              "</svg>\n",
              "  </button>\n",
              "\n",
              "<style>\n",
              "  .colab-df-quickchart {\n",
              "      --bg-color: #E8F0FE;\n",
              "      --fill-color: #1967D2;\n",
              "      --hover-bg-color: #E2EBFA;\n",
              "      --hover-fill-color: #174EA6;\n",
              "      --disabled-fill-color: #AAA;\n",
              "      --disabled-bg-color: #DDD;\n",
              "  }\n",
              "\n",
              "  [theme=dark] .colab-df-quickchart {\n",
              "      --bg-color: #3B4455;\n",
              "      --fill-color: #D2E3FC;\n",
              "      --hover-bg-color: #434B5C;\n",
              "      --hover-fill-color: #FFFFFF;\n",
              "      --disabled-bg-color: #3B4455;\n",
              "      --disabled-fill-color: #666;\n",
              "  }\n",
              "\n",
              "  .colab-df-quickchart {\n",
              "    background-color: var(--bg-color);\n",
              "    border: none;\n",
              "    border-radius: 50%;\n",
              "    cursor: pointer;\n",
              "    display: none;\n",
              "    fill: var(--fill-color);\n",
              "    height: 32px;\n",
              "    padding: 0;\n",
              "    width: 32px;\n",
              "  }\n",
              "\n",
              "  .colab-df-quickchart:hover {\n",
              "    background-color: var(--hover-bg-color);\n",
              "    box-shadow: 0 1px 2px rgba(60, 64, 67, 0.3), 0 1px 3px 1px rgba(60, 64, 67, 0.15);\n",
              "    fill: var(--button-hover-fill-color);\n",
              "  }\n",
              "\n",
              "  .colab-df-quickchart-complete:disabled,\n",
              "  .colab-df-quickchart-complete:disabled:hover {\n",
              "    background-color: var(--disabled-bg-color);\n",
              "    fill: var(--disabled-fill-color);\n",
              "    box-shadow: none;\n",
              "  }\n",
              "\n",
              "  .colab-df-spinner {\n",
              "    border: 2px solid var(--fill-color);\n",
              "    border-color: transparent;\n",
              "    border-bottom-color: var(--fill-color);\n",
              "    animation:\n",
              "      spin 1s steps(1) infinite;\n",
              "  }\n",
              "\n",
              "  @keyframes spin {\n",
              "    0% {\n",
              "      border-color: transparent;\n",
              "      border-bottom-color: var(--fill-color);\n",
              "      border-left-color: var(--fill-color);\n",
              "    }\n",
              "    20% {\n",
              "      border-color: transparent;\n",
              "      border-left-color: var(--fill-color);\n",
              "      border-top-color: var(--fill-color);\n",
              "    }\n",
              "    30% {\n",
              "      border-color: transparent;\n",
              "      border-left-color: var(--fill-color);\n",
              "      border-top-color: var(--fill-color);\n",
              "      border-right-color: var(--fill-color);\n",
              "    }\n",
              "    40% {\n",
              "      border-color: transparent;\n",
              "      border-right-color: var(--fill-color);\n",
              "      border-top-color: var(--fill-color);\n",
              "    }\n",
              "    60% {\n",
              "      border-color: transparent;\n",
              "      border-right-color: var(--fill-color);\n",
              "    }\n",
              "    80% {\n",
              "      border-color: transparent;\n",
              "      border-right-color: var(--fill-color);\n",
              "      border-bottom-color: var(--fill-color);\n",
              "    }\n",
              "    90% {\n",
              "      border-color: transparent;\n",
              "      border-bottom-color: var(--fill-color);\n",
              "    }\n",
              "  }\n",
              "</style>\n",
              "\n",
              "  <script>\n",
              "    async function quickchart(key) {\n",
              "      const quickchartButtonEl =\n",
              "        document.querySelector('#' + key + ' button');\n",
              "      quickchartButtonEl.disabled = true;  // To prevent multiple clicks.\n",
              "      quickchartButtonEl.classList.add('colab-df-spinner');\n",
              "      try {\n",
              "        const charts = await google.colab.kernel.invokeFunction(\n",
              "            'suggestCharts', [key], {});\n",
              "      } catch (error) {\n",
              "        console.error('Error during call to suggestCharts:', error);\n",
              "      }\n",
              "      quickchartButtonEl.classList.remove('colab-df-spinner');\n",
              "      quickchartButtonEl.classList.add('colab-df-quickchart-complete');\n",
              "    }\n",
              "    (() => {\n",
              "      let quickchartButtonEl =\n",
              "        document.querySelector('#df-504c7ff9-fe6f-447b-881a-b58910a82938 button');\n",
              "      quickchartButtonEl.style.display =\n",
              "        google.colab.kernel.accessAllowed ? 'block' : 'none';\n",
              "    })();\n",
              "  </script>\n",
              "</div>\n",
              "    </div>\n",
              "  </div>\n"
            ]
          },
          "metadata": {},
          "execution_count": 32
        }
      ]
    },
    {
      "cell_type": "markdown",
      "source": [
        "**Adding and dropping a column**"
      ],
      "metadata": {
        "id": "MHPafgfzzJI7"
      }
    },
    {
      "cell_type": "code",
      "source": [
        "# Adding a new column\n",
        "df['Salary'] = [50000, 60000, 70000]\n",
        "print(df)\n",
        "\n",
        "#intialise a column with a single value\n",
        "df['example'] = 1\n",
        "print(df)\n",
        "\n",
        "#adding column with random values\n",
        "df['RandomValues'] = np.random.rand(len(df))\n",
        "\n",
        "#unique values in each column and frequency\n",
        "example_counts = df['example'].value_counts()\n",
        "Salary_counts = df['Salary'].value_counts()\n",
        "\n",
        "print(example_counts)\n",
        "print(Salary_counts)\n",
        "\n",
        "# Removing a column\n",
        "df.drop('City', axis=1, inplace=True)\n",
        "print(df)"
      ],
      "metadata": {
        "colab": {
          "base_uri": "https://localhost:8080/"
        },
        "id": "TELantKDcAD4",
        "outputId": "c4f0418b-669e-4d07-c4c1-2ae9be7fc7ee"
      },
      "execution_count": null,
      "outputs": [
        {
          "output_type": "stream",
          "name": "stdout",
          "text": [
            "      Name  Age           City  Salary\n",
            "0    Alice   25       New York   50000\n",
            "1      Bob   30  San Francisco   60000\n",
            "2  Charlie   35    Los Angeles   70000\n",
            "      Name  Age           City  Salary  example\n",
            "0    Alice   25       New York   50000        1\n",
            "1      Bob   30  San Francisco   60000        1\n",
            "2  Charlie   35    Los Angeles   70000        1\n",
            "1    3\n",
            "Name: example, dtype: int64\n",
            "50000    1\n",
            "60000    1\n",
            "70000    1\n",
            "Name: Salary, dtype: int64\n",
            "      Name  Age  Salary  example  RandomValues\n",
            "0    Alice   25   50000        1      0.974537\n",
            "1      Bob   30   60000        1      0.620667\n",
            "2  Charlie   35   70000        1      0.232135\n"
          ]
        }
      ]
    },
    {
      "cell_type": "markdown",
      "source": [
        "**Grouping and merging of data**"
      ],
      "metadata": {
        "id": "bb1_3xaWzo2n"
      }
    },
    {
      "cell_type": "code",
      "source": [
        "# Grouping by 'City' and calculating the average age\n",
        "grouped_data = df.groupby('Salary')['Age'].mean()\n",
        "\n",
        "print(grouped_data)"
      ],
      "metadata": {
        "colab": {
          "base_uri": "https://localhost:8080/"
        },
        "id": "iTzRc1LIcHM4",
        "outputId": "57da73f6-f4b1-4bf5-f4d4-bce94a9ade34"
      },
      "execution_count": null,
      "outputs": [
        {
          "output_type": "stream",
          "name": "stdout",
          "text": [
            "Salary\n",
            "50000    25.0\n",
            "60000    30.0\n",
            "70000    35.0\n",
            "Name: Age, dtype: float64\n"
          ]
        }
      ]
    },
    {
      "cell_type": "code",
      "source": [
        "#concatenation\n",
        "data2 = data = {'Name': ['Alice', 'Bob', 'Delta'],\n",
        "        'Age': [25, 30, 29],\n",
        "        'City': ['New York', 'San Francisco', 'Las Vegas']}\n",
        "\n",
        "df2 = pd.DataFrame(data2)\n",
        "\n",
        "# Concatenate DataFrames along rows.\n",
        "df3 = pd.concat([df, df2], axis=0)\n",
        "\n",
        "# Concatenate DataFrames along columns.\n",
        "df4 = pd.concat([df, df2], axis=1)\n",
        "\n",
        "# Merge two DataFrames based on a common column.\n",
        "df5 = pd.merge(df, df2, on='Name')\n",
        "\n",
        "print(df3)\n",
        "print(df4)\n",
        "print(df5)"
      ],
      "metadata": {
        "colab": {
          "base_uri": "https://localhost:8080/"
        },
        "id": "BZN1uZRMkAoy",
        "outputId": "415157a2-98b1-49d8-ecdb-463f846c11e8"
      },
      "execution_count": null,
      "outputs": [
        {
          "output_type": "stream",
          "name": "stdout",
          "text": [
            "      Name  Age   Salary           City\n",
            "0    Alice   25  50000.0            NaN\n",
            "1      Bob   30  60000.0            NaN\n",
            "2  Charlie   35  70000.0            NaN\n",
            "0    Alice   25      NaN       New York\n",
            "1      Bob   30      NaN  San Francisco\n",
            "2    Delta   29      NaN      Las Vegas\n",
            "      Name  Age  Salary   Name  Age           City\n",
            "0    Alice   25   50000  Alice   25       New York\n",
            "1      Bob   30   60000    Bob   30  San Francisco\n",
            "2  Charlie   35   70000  Delta   29      Las Vegas\n",
            "    Name  Age_x  Salary  Age_y           City\n",
            "0  Alice     25   50000     25       New York\n",
            "1    Bob     30   60000     30  San Francisco\n"
          ]
        }
      ]
    },
    {
      "cell_type": "markdown",
      "source": [
        "**Dealing with missing information**"
      ],
      "metadata": {
        "id": "CQlF3MgnzwTd"
      }
    },
    {
      "cell_type": "code",
      "source": [
        "# Drop rows with missing values\n",
        "df3.dropna(inplace=True)\n",
        "\n",
        "# Fill missing values with a specific value i.e. 0 here\n",
        "df3.fillna(0, inplace=True)\n",
        "\n",
        "print(df3)"
      ],
      "metadata": {
        "colab": {
          "base_uri": "https://localhost:8080/"
        },
        "id": "v1eYqQy2cDVO",
        "outputId": "68f5c03e-e0c1-4201-e0ee-ef8a3b1f64d4"
      },
      "execution_count": null,
      "outputs": [
        {
          "output_type": "stream",
          "name": "stdout",
          "text": [
            "Empty DataFrame\n",
            "Columns: [Name, Age, Salary, City]\n",
            "Index: []\n"
          ]
        }
      ]
    },
    {
      "cell_type": "markdown",
      "source": [
        "**Handling date and time**"
      ],
      "metadata": {
        "id": "mtHCBqG8z3y4"
      }
    },
    {
      "cell_type": "code",
      "source": [
        "# Adding date column\n",
        "df['Date'] = pd.date_range(start='2024-01-01', periods=3, freq='D')\n",
        "\n",
        "# Adding a new column with day of the week\n",
        "df['Day_of_Week'] = df['Date'].dt.day_name()\n",
        "print(df)"
      ],
      "metadata": {
        "colab": {
          "base_uri": "https://localhost:8080/"
        },
        "id": "agFnhaWkiRFm",
        "outputId": "412a17a9-c23a-413d-9fc3-52155a9cf340"
      },
      "execution_count": null,
      "outputs": [
        {
          "output_type": "stream",
          "name": "stdout",
          "text": [
            "      Name  Age  Salary       Date Day_of_Week\n",
            "0    Alice   25   50000 2024-01-01      Monday\n",
            "1      Bob   30   60000 2024-01-02     Tuesday\n",
            "2  Charlie   35   70000 2024-01-03   Wednesday\n"
          ]
        }
      ]
    },
    {
      "cell_type": "markdown",
      "source": [
        "##### Some more functions on date and time:\n",
        "1.   **pd.to_datetime(df['date_column'])**: Convert a column to datetime type.\n",
        "2.   **df['date_column'].dt.year, df['date_column'].dt.month, etc.**: Extract components of a datetime column.\n",
        "\n"
      ],
      "metadata": {
        "id": "J1kNFd5Cgq-f"
      }
    },
    {
      "cell_type": "markdown",
      "source": [
        "**Reading data from a file**"
      ],
      "metadata": {
        "id": "rqezvFoK0DzE"
      }
    },
    {
      "cell_type": "code",
      "source": [
        "# Reading data from a CSV file\n",
        "new_df = pd.read_csv('your_data.csv')\n",
        "# Reading data from a excel file\n",
        "df = pd.read_excel('your_data.xlsx')\n",
        "\n",
        "# Writing data to a CSV file\n",
        "df.to_csv('output_data.csv', index=False)\n",
        "# Writing data to a excel file\n",
        "df.to_excel('output_data.xlsx', index=False)"
      ],
      "metadata": {
        "id": "NWTRC-JLcJS9"
      },
      "execution_count": null,
      "outputs": []
    },
    {
      "cell_type": "markdown",
      "source": [
        "## **Some more important functions**\n",
        "**Statistical Functions:**\n",
        "1.   **df.mean(), df.median(), df.std()**: Calculate mean, median, and standard deviation.\n",
        "2.   **df.corr()**: Calculate pairwise correlation between columns.\n",
        "\n",
        "\n",
        "\n",
        "**Handling Duplicates:**\n",
        "1.   **df.duplicated()**: Identify duplicate rows.\n",
        "2.   **df.drop_duplicates()**: Remove duplicate rows.\n"
      ],
      "metadata": {
        "id": "JGGPemM5fsZS"
      }
    },
    {
      "cell_type": "markdown",
      "source": [
        "#<font color ='RED'>Exercise: TO-DO</font>\n",
        "- **Q1.** Create an array of all the even integers from 20 to 50\n",
        "-**Q2.** Create a 4x4 matrix with values ranging from 0 to 16.  # HINT: use np.arange()\n",
        "-**Q3.** Write code using the array in Q2, that reproduces the output given below. # HINT: Perform slicing on array.\n",
        "\n",
        "[[ 8  9]\\\n",
        " [12 13]]\n",
        "\n",
        "- **Q4.** Create a random integer NumPy array of shape (5, 5) and replace all elements greater than 5 with the mean of the array.\n",
        "\n"
      ],
      "metadata": {
        "id": "olWB4BJcsNJ6"
      }
    },
    {
      "cell_type": "markdown",
      "source": [
        "* **DATA_FOR_Q5**: {'Category': ['Groceries', 'Electronics', 'Clothing', 'Electronics', 'Books', 'Clothing', 'Groceries', 'Books', 'Electronics', 'Clothing','Groceries', 'Books', 'Books', 'Clothing', 'Electronics'],'Amount': [50, 120, 30, 80, 25, 40, 35, 60, 90, 20, 45, 15, 75, 35, 100]}\n",
        "* **Q5a.** Given a Pandas DataFrame with columns 'Category' and 'Amount,' print a table with total amount spent in each category.\n",
        "\n",
        "* **Q5b.** For the table made in Q5a, calculate the mean and standard deviation.\n",
        "\n",
        "* **DATA_FOR_Q6**:\n",
        "data_q6 = {'Value': [20, 15, 30, 40, 25, 18, 35, 42, 28, 22,18, 30, 45, 38, 20, 32, 28, 35, 40, 15,25, 38, 22, 18, 30, 25, 40, 35, 28, 22, 18, 30, 45, 38, 20, 32, 28, 35, 40, 15,25, 38, 22, 18, 30, 25, 40, 35, 28, 22]}\n",
        "                      \n",
        "  date_range_for_index = pd.date_range(start='2022-01-01', periods=len(data_q6['Value']), freq='D')\n",
        "\n",
        "* **Q6.** Given a Pandas DataFrame with a datetime index and a 'Value' column, resample the data to a weekly frequency and calculate the average value for each week.\n",
        "\n"
      ],
      "metadata": {
        "id": "843rUA9kzZ5E"
      }
    }
  ]
}