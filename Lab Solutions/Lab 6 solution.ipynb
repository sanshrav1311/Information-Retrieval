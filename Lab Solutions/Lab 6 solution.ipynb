{
 "cells": [
  {
   "cell_type": "code",
   "execution_count": 8,
   "metadata": {},
   "outputs": [],
   "source": [
    "import numpy as np\n",
    "from collections import Counter\n",
    "import matplotlib.pyplot as plt"
   ]
  },
  {
   "cell_type": "markdown",
   "metadata": {},
   "source": [
    "### GENERATING DATASET"
   ]
  },
  {
   "cell_type": "code",
   "execution_count": 9,
   "metadata": {},
   "outputs": [],
   "source": [
    "d = 10 # how far the points are from the origin\n",
    "x = d + np.random.randn(125)\n",
    "y = np.random.randn(125)\n",
    "class_B = np.column_stack((x, y))\n",
    "x = -d + np.random.randn(125)\n",
    "y = np.random.randn(125)\n",
    "class_B = np.row_stack((class_B, np.column_stack((x, y))))\n",
    "x = np.random.randn(125)\n",
    "y = d + np.random.randn(125)\n",
    "class_A = np.column_stack((x, y))\n",
    "x = np.random.randn(125)\n",
    "y = -d + np.random.randn(125)\n",
    "class_A = np.row_stack((class_A, np.column_stack((x, y))))"
   ]
  },
  {
   "cell_type": "code",
   "execution_count": 10,
   "metadata": {},
   "outputs": [
    {
     "data": {
      "image/png": "[encoded data removed]",
      "text/plain": [
       "<Figure size 640x480 with 1 Axes>"
      ]
     },
     "metadata": {},
     "output_type": "display_data"
    }
   ],
   "source": [
    "plt.plot(class_A[:,0], class_A[:,1], 'ro')\n",
    "plt.plot(class_B[:,0], class_B[:,1], 'bo')\n",
    "plt.show()"
   ]
  },
  {
   "cell_type": "code",
   "execution_count": 11,
   "metadata": {},
   "outputs": [
    {
     "name": "stdout",
     "output_type": "stream",
     "text": [
      "(400, 2) (400,) (100, 2) (100,)\n"
     ]
    }
   ],
   "source": [
    "# combine the two classes into one data set\n",
    "X = np.row_stack((class_A, class_B))\n",
    "y = np.row_stack((np.ones((250,1)), np.zeros((250,1))))\n",
    "y = np.ravel(y)\n",
    "\n",
    "#shuffling the points\n",
    "idx = np.random.permutation(500)\n",
    "X = X[idx]\n",
    "y = y[idx]\n",
    "\n",
    "\n",
    "# divide the data into training and test data, 400 points for training and 100 for testing\n",
    "X_train = X[:400]\n",
    "y_train = y[:400]\n",
    "X_test = X[400:]\n",
    "y_test = y[400:]\n",
    "print(X_train.shape, y_train.shape, X_test.shape, y_test.shape)\n"
   ]
  },
  {
   "cell_type": "markdown",
   "metadata": {},
   "source": [
    "### Rocchio Classifier"
   ]
  },
  {
   "cell_type": "code",
   "execution_count": 12,
   "metadata": {},
   "outputs": [],
   "source": [
    "class RocchioClassifier:\n",
    "    def __init__(self):\n",
    "        # dictionary to store the centroids of each class\n",
    "        self.centroids = None\n",
    "\n",
    "    def fit(self, X_train, y_train):\n",
    "        # find the centroid of each class\n",
    "        unique_classes = np.unique(y_train)\n",
    "        self.centroids = {}\n",
    "        for cls in unique_classes:\n",
    "            cls_data = X_train[y_train == cls]\n",
    "            # calculate the mean of the data points in the class\n",
    "            self.centroids[cls] = np.mean(cls_data, axis=0)\n",
    "            print(f\"Centroid for class {cls}: {self.centroids[cls]}\")\n",
    "\n",
    "    def predict(self, X_test):\n",
    "        if self.centroids is None:\n",
    "            raise ValueError(\"Classifier not fitted yet. Call fit method first.\")\n",
    "        \n",
    "        # predict the class of each test point\n",
    "        y_pred = []\n",
    "        for x in X_test:\n",
    "            # find the nearest centroid\n",
    "            nearest_cls = None\n",
    "            min_distance = float('inf')\n",
    "            # iterate over the centroids\n",
    "            for cls, centroid in self.centroids.items():\n",
    "                distance = np.linalg.norm(x - centroid)\n",
    "                if distance < min_distance:\n",
    "                    min_distance = distance\n",
    "                    nearest_cls = cls\n",
    "            # assign the class of the nearest centroid to the test point\n",
    "            y_pred.append(nearest_cls)\n",
    "        return y_pred"
   ]
  },
  {
   "cell_type": "code",
   "execution_count": 13,
   "metadata": {},
   "outputs": [
    {
     "name": "stdout",
     "output_type": "stream",
     "text": [
      "Centroid for class 0.0: [0.63268279 0.06018443]\n",
      "Centroid for class 1.0: [-0.00705175  0.1548289 ]\n",
      "Accuracy: 0.44\n"
     ]
    }
   ],
   "source": [
    "# train the classifier\n",
    "rochhio = RocchioClassifier()\n",
    "rochhio.fit(X_train, y_train)\n",
    "\n",
    "# test the classifier\n",
    "y_pred = rochhio.predict(X_test)\n",
    "accuracy = np.sum(y_pred == y_test) / len(y_test)\n",
    "print(f\"Accuracy: {accuracy}\")"
   ]
  },
  {
   "cell_type": "markdown",
   "metadata": {},
   "source": [
    "Since both centroids are very close to each other, Rocchio Classifier performs poorly."
   ]
  },
  {
   "cell_type": "markdown",
   "metadata": {},
   "source": [
    "### KNN Classifier"
   ]
  },
  {
   "cell_type": "code",
   "execution_count": 14,
   "metadata": {},
   "outputs": [],
   "source": [
    "# KNN Classifier\n",
    "class KNNClassifier:\n",
    "    def __init__(self, k=10):\n",
    "        # number of nearest neighbors to consider\n",
    "        self.k = k\n",
    "\n",
    "    def fit(self, X_train, y_train):\n",
    "        self.X_train = X_train\n",
    "        self.y_train = y_train\n",
    "\n",
    "    def predict(self, X_test):\n",
    "        # predict the class of each test point\n",
    "        y_pred = []\n",
    "        for x in X_test:\n",
    "            # find the k nearest neighbors\n",
    "            distances = np.linalg.norm(self.X_train - x, axis=1)\n",
    "            nearest_indices = np.argsort(distances)[:self.k]\n",
    "            nearest_labels = self.y_train[nearest_indices]\n",
    "\n",
    "            # find the most common label among the nearest neighbors\n",
    "            counts = Counter(nearest_labels)\n",
    "            most_common_label  = counts.most_common(1)[0][0]\n",
    "            y_pred.append(most_common_label)\n",
    "        return y_pred"
   ]
  },
  {
   "cell_type": "code",
   "execution_count": 15,
   "metadata": {},
   "outputs": [
    {
     "name": "stdout",
     "output_type": "stream",
     "text": [
      "Accuracy: 1.0\n"
     ]
    }
   ],
   "source": [
    "# train the classifier\n",
    "knn = KNNClassifier()\n",
    "knn.fit(X_train, y_train)\n",
    "\n",
    "# test the classifier\n",
    "y_pred = knn.predict(X_test)\n",
    "accuracy = np.sum(y_pred == y_test) / len(y_test)\n",
    "print(f\"Accuracy: {accuracy}\")\n"
   ]
  }
 ],
 "metadata": {
  "kernelspec": {
   "display_name": "Python 3",
   "language": "python",
   "name": "python3"
  },
  "language_info": {
   "codemirror_mode": {
    "name": "ipython",
    "version": 3
   },
   "file_extension": ".py",
   "mimetype": "text/x-python",
   "name": "python",
   "nbconvert_exporter": "python",
   "pygments_lexer": "ipython3",
   "version": "3.9.6"
  }
 },
 "nbformat": 4,
 "nbformat_minor": 2
}
