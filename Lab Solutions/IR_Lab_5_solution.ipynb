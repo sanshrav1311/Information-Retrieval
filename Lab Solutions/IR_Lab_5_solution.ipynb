{
  "nbformat": 4,
  "nbformat_minor": 0,
  "metadata": {
    "colab": {
      "provenance": []
    },
    "kernelspec": {
      "name": "python3",
      "display_name": "Python 3"
    },
    "language_info": {
      "name": "python"
    }
  },
  "cells": [
    {
      "cell_type": "markdown",
      "source": [
        "#**Information Retrieval CSF469**\n",
        "##Lab Session - 5\n",
        "## Date - 23/02/2024\n",
        "##<font color ='GREEN'>Marks: 10</font>\n",
        "In this lab session, we implement vector-based query processing approach in which both the documents and queries are converted into vector forms. Then, a similarity based metric such as cosine similarity can be used to find the relevant documents.\n",
        "\n",
        "## Students have to write their code in blank spaces marked under <font color = \"RED\">TO-DO</font> section\n",
        "\n",
        "### After attempting the lab sheet, please rename the file as \"NAME_ID.ipynb\" and then upload it on canvas"
      ],
      "metadata": {
        "id": "ByCxbJJlONuv"
      }
    },
    {
      "cell_type": "markdown",
      "source": [
        "Task is to implement vector based query processing approach. Students need to first change each text document into tfidf and store it as a matrix. Then, change query also into a vector of same size of vector as of a document. Then use a similarity metric to get the relevant documents."
      ],
      "metadata": {
        "id": "4RDE6BLZYAcF"
      }
    },
    {
      "cell_type": "code",
      "execution_count": 304,
      "metadata": {
        "id": "cWvkOVVtHbdi"
      },
      "outputs": [],
      "source": [
        "import pandas as pd\n",
        "import numpy as np\n",
        "import nltk\n",
        "from nltk.tokenize import word_tokenize\n",
        "from nltk.corpus import stopwords\n",
        "from nltk.stem import PorterStemmer\n",
        "from sklearn.feature_extraction.text import TfidfVectorizer\n",
        "from sklearn.metrics.pairwise import cosine_similarity"
      ]
    },
    {
      "cell_type": "code",
      "source": [
        "dataset = pd.read_csv('IRdata.csv')\n",
        "# Dataset is now stored in a Pandas Dataframe"
      ],
      "metadata": {
        "id": "KIzjTQXJIigP"
      },
      "execution_count": 305,
      "outputs": []
    },
    {
      "cell_type": "code",
      "source": [
        "print(dataset)"
      ],
      "metadata": {
        "colab": {
          "base_uri": "https://localhost:8080/"
        },
        "id": "RaTWAM6jIw4f",
        "outputId": "c4de5c79-536f-436d-c61f-bbc9e47d33c3"
      },
      "execution_count": 306,
      "outputs": [
        {
          "output_type": "stream",
          "name": "stdout",
          "text": [
            "                                                 title     label\n",
            "0    Avantel Limited Announces Resignation of Ebv R...   Avantel\n",
            "1    480% Returns From 1-Year Low: Multibagger Defe...   Avantel\n",
            "2    Multibagger defence stock rises 5% on Rs 68 cr...   Avantel\n",
            "3    Avantel Ltd receives order worth Rs. 67.92 cro...   Avantel\n",
            "4    Rs 11 to Rs 129: This defence stock turned int...   Avantel\n",
            "..                                                 ...       ...\n",
            "157  Titagarh Rail Systems rolls out new diving sup...  Titagarh\n",
            "158  Titagarh Rail shares fall 10% from record high...  Titagarh\n",
            "159  Rs 49 to Rs 813: This railway stock turned int...  Titagarh\n",
            "160  Škoda Group secures €732m contract with Trenit...  Titagarh\n",
            "161  Titagarh Rail Share Price: Stock at record hig...  Titagarh\n",
            "\n",
            "[162 rows x 2 columns]\n"
          ]
        }
      ]
    },
    {
      "cell_type": "code",
      "source": [
        "df_news = dataset.iloc[:, 0]\n",
        "df_labels = dataset.iloc[:, -1]"
      ],
      "metadata": {
        "id": "bot6k8D3IzEr"
      },
      "execution_count": 307,
      "outputs": []
    },
    {
      "cell_type": "code",
      "source": [
        "print(df_news)\n",
        "df_labels = df_labels.to_frame()\n",
        "print(df_labels)"
      ],
      "metadata": {
        "colab": {
          "base_uri": "https://localhost:8080/"
        },
        "id": "mhpjMLQ8JOrs",
        "outputId": "7bcb069f-607f-4502-e0c7-e178ac710791"
      },
      "execution_count": 308,
      "outputs": [
        {
          "output_type": "stream",
          "name": "stdout",
          "text": [
            "0      Avantel Limited Announces Resignation of Ebv R...\n",
            "1      480% Returns From 1-Year Low: Multibagger Defe...\n",
            "2      Multibagger defence stock rises 5% on Rs 68 cr...\n",
            "3      Avantel Ltd receives order worth Rs. 67.92 cro...\n",
            "4      Rs 11 to Rs 129: This defence stock turned int...\n",
            "                             ...                        \n",
            "157    Titagarh Rail Systems rolls out new diving sup...\n",
            "158    Titagarh Rail shares fall 10% from record high...\n",
            "159    Rs 49 to Rs 813: This railway stock turned int...\n",
            "160    Škoda Group secures €732m contract with Trenit...\n",
            "161    Titagarh Rail Share Price: Stock at record hig...\n",
            "Name: title, Length: 162, dtype: object\n",
            "        label\n",
            "0     Avantel\n",
            "1     Avantel\n",
            "2     Avantel\n",
            "3     Avantel\n",
            "4     Avantel\n",
            "..        ...\n",
            "157  Titagarh\n",
            "158  Titagarh\n",
            "159  Titagarh\n",
            "160  Titagarh\n",
            "161  Titagarh\n",
            "\n",
            "[162 rows x 1 columns]\n"
          ]
        }
      ]
    },
    {
      "cell_type": "code",
      "source": [
        "# Download NLTK resources\n",
        "nltk.download('punkt')\n",
        "nltk.download('stopwords')\n",
        "\n",
        "\n",
        "# Preprocessing function\n",
        "def preprocess_text(text):\n",
        "    # Tokenization\n",
        "    tokens = word_tokenize(text.lower())\n",
        "    # Removing stop words\n",
        "    stop_words = set(stopwords.words('english'))\n",
        "    filtered_tokens = [word for word in tokens if word not in stop_words]\n",
        "    # Stemming\n",
        "    stemmer = PorterStemmer()\n",
        "    stemmed_tokens = [stemmer.stem(word) for word in filtered_tokens]\n",
        "    # Joining tokens back to sentence\n",
        "    preprocessed_text = ' '.join(stemmed_tokens)\n",
        "    return preprocessed_text"
      ],
      "metadata": {
        "id": "FxL7-xlrDlHi",
        "colab": {
          "base_uri": "https://localhost:8080/"
        },
        "outputId": "4e8ae6a6-e094-4f52-8c4c-99ecc05de55a"
      },
      "execution_count": 309,
      "outputs": [
        {
          "output_type": "stream",
          "name": "stderr",
          "text": [
            "[nltk_data] Downloading package punkt to /root/nltk_data...\n",
            "[nltk_data]   Package punkt is already up-to-date!\n",
            "[nltk_data] Downloading package stopwords to /root/nltk_data...\n",
            "[nltk_data]   Package stopwords is already up-to-date!\n"
          ]
        }
      ]
    },
    {
      "cell_type": "markdown",
      "source": [
        "#<font color = \"RED\">TO-DO</font> Implement code for converting text into TFIDF vectors."
      ],
      "metadata": {
        "id": "w_HqeCw6YWtM"
      }
    },
    {
      "cell_type": "code",
      "source": [
        "import numpy as np\n",
        "\n",
        "class CustomTFIDFVectorizer:\n",
        "    def __init__(self):\n",
        "        self.word_idf = {}\n",
        "        self.vocab_size = 0\n",
        "\n",
        "    def fit_transform(self, documents):\n",
        "        ### write your code here for generating vector of documents\n",
        "        word_doc_count = {}\n",
        "\n",
        "        for document in documents:\n",
        "            words = set(document.split())\n",
        "            for word in words:\n",
        "                if word in word_doc_count:\n",
        "                    word_doc_count[word]+=1\n",
        "                else:\n",
        "                    word_doc_count[word] = 1\n",
        "\n",
        "        for word, count in word_doc_count.items():\n",
        "            self.word_idf[word] = np.log(len(documents)/count)\n",
        "\n",
        "        tfidf_matrix = np.zeros((len(documents), len(self.word_idf)))\n",
        "\n",
        "        for i, doc in enumerate(documents):\n",
        "            tfidf_matrix[i] = self.transform([doc])\n",
        "\n",
        "        self.vocab_size = len(self.word_idf)\n",
        "\n",
        "        return tfidf_matrix\n",
        "\n",
        "    def transform(self, query_text, max_length=None):\n",
        "        ### write your code here for generating vector of query\n",
        "        # query_text = query_text[0]\n",
        "        words = str(query_text).split()\n",
        "        tf = {}\n",
        "\n",
        "        for word in words:\n",
        "            tf[word] = tf.get(word, 0) + 1\n",
        "\n",
        "        query_vector = np.zeros(len(self.word_idf))\n",
        "\n",
        "        for word, freq in tf.items():\n",
        "            if word in self.word_idf:\n",
        "                query_vector[list(self.word_idf).index(word)] = freq * self.word_idf[word]\n",
        "\n",
        "        return query_vector"
      ],
      "metadata": {
        "id": "cgFCQNhcb6sd"
      },
      "execution_count": 310,
      "outputs": []
    },
    {
      "cell_type": "code",
      "source": [
        "# Preprocess documents\n",
        "preprocessed_documents = [preprocess_text(doc) for doc in df_news]"
      ],
      "metadata": {
        "id": "dnzwXRYCMLQT"
      },
      "execution_count": 311,
      "outputs": []
    },
    {
      "cell_type": "code",
      "source": [
        "# Initialize and fit the TF-IDF vectorizer\n",
        "vectorizer = CustomTFIDFVectorizer()\n",
        "\n",
        "# Fit and transform documents\n",
        "tfidf_matrix = vectorizer.fit_transform(preprocessed_documents)\n",
        "print(tfidf_matrix.shape)"
      ],
      "metadata": {
        "id": "_SftaM4SVghh",
        "colab": {
          "base_uri": "https://localhost:8080/"
        },
        "outputId": "d27afbbf-fe28-46d1-f7f4-55bb33a0d164"
      },
      "execution_count": 312,
      "outputs": [
        {
          "output_type": "stream",
          "name": "stdout",
          "text": [
            "(162, 611)\n"
          ]
        }
      ]
    },
    {
      "cell_type": "markdown",
      "source": [
        "#<font color = \"RED\">TO-DO</font>"
      ],
      "metadata": {
        "id": "uAzgC9QnYioc"
      }
    },
    {
      "cell_type": "code",
      "source": [
        "query = \"multi bagger defence shares  \"\n",
        "# Query processing\n",
        "preprocessed_query = preprocess_text(query)\n",
        "query_vector = (vectorizer.transform([preprocessed_query])).reshape(1,-1)\n",
        "# print(query_vector.shape)\n",
        "# Calculating cosine similarity between query and documents\n",
        "similarity_scores = cosine_similarity(query_vector, tfidf_matrix)\n",
        "# Retrieving most similar five documents\n",
        "top_indices = np.argsort(similarity_scores.ravel())[-5:][::-1]\n",
        "\n",
        "print(\"Top 5 most similar documents:\")\n",
        "for i, idx in enumerate(top_indices):\n",
        "    print(f\"{i+1}. Document {idx}: {df_news[idx]}\")"
      ],
      "metadata": {
        "colab": {
          "base_uri": "https://localhost:8080/"
        },
        "id": "mjkkvLnF5zRr",
        "outputId": "16284f91-7510-4446-e9ca-e01b1cf2f4ed"
      },
      "execution_count": 313,
      "outputs": [
        {
          "output_type": "stream",
          "name": "stdout",
          "text": [
            "Top 5 most similar documents:\n",
            "1. Document 27: Smallcap Defence Company Declares 2:1 Bonus Issue; Stock Zooms 20% - Equitymaster\n",
            "2. Document 5: This Multibagger Defence Stock Has Given over 2000% Return In 3 Years - News18\n",
            "3. Document 2: Multibagger defence stock rises 5% on Rs 68 crore order win, nears 52-week high - Business Today\n",
            "4. Document 6: 2:1 Bonus Issue: Multibagger Defence Stock Up 400% YTD; Turns Rs 50000 Into Rs 2.5 Lakh In 11 Months - Goodreturns\n",
            "5. Document 4: Rs 11 to Rs 129: This defence stock turned into a multibagger in two years; fell 11% from record high - Business Today\n"
          ]
        }
      ]
    },
    {
      "cell_type": "code",
      "source": [
        "query1 = \"Titagarh shares at 10%\"\n",
        "query2 = \"small cap company shares\"\n",
        "query3 = \"rail systems launch repayment\""
      ],
      "metadata": {
        "id": "haEGkszvrM2v"
      },
      "execution_count": 314,
      "outputs": []
    },
    {
      "cell_type": "code",
      "source": [
        "# Query-1 processing\n",
        "preprocessed_query = preprocess_text(query1)\n",
        "query_vector = (vectorizer.transform([preprocessed_query])).reshape(1,-1)\n",
        "# print(query_vector.shape)\n",
        "# Calculating cosine similarity between query and documents\n",
        "similarity_scores = cosine_similarity(query_vector, tfidf_matrix)\n",
        "# Retrieving most similar five documents\n",
        "top_indices = np.argsort(similarity_scores.ravel())[-5:][::-1]\n",
        "\n",
        "print(\"Top 5 most similar documents:\")\n",
        "for i, idx in enumerate(top_indices):\n",
        "    print(f\"{i+1}. Document {idx}: {df_news[idx]}\")"
      ],
      "metadata": {
        "id": "HEJZMZgTMOn7",
        "colab": {
          "base_uri": "https://localhost:8080/"
        },
        "outputId": "8c1ec873-b81a-4607-dd37-71cbc3f86c7d"
      },
      "execution_count": 315,
      "outputs": [
        {
          "output_type": "stream",
          "name": "stdout",
          "text": [
            "Top 5 most similar documents:\n",
            "1. Document 158: Titagarh Rail shares fall 10% from record high; right time to book profit? - Business Today\n",
            "2. Document 53: Gainers & Losers: 10 stocks that moved the most on June 12 - Moneycontrol\n",
            "3. Document 39: Multibagger Alert! With over 9500% returns in a decade, this small-cap stock delivered gains in 7 out of last 10 years - MintGenie\n",
            "4. Document 1: 480% Returns From 1-Year Low: Multibagger Defence Stock Less Than Rs 10 Away From New High; Co Wins Big Order - Goodreturns\n",
            "5. Document 85: Top 10 stocks to watch on December 15, 2023: Texmaco Rail, Titagarh, IRCON, Dr Reddy's, Ami Organics and more - Business Today\n"
          ]
        }
      ]
    },
    {
      "cell_type": "code",
      "source": [
        "# Query-2 processing\n",
        "preprocessed_query = preprocess_text(query2)\n",
        "query_vector = (vectorizer.transform([preprocessed_query])).reshape(1,-1)\n",
        "# print(query_vector.shape)\n",
        "# Calculating cosine similarity between query and documents\n",
        "similarity_scores = cosine_similarity(query_vector, tfidf_matrix)\n",
        "# Retrieving most similar five documents\n",
        "top_indices = np.argsort(similarity_scores.ravel())[-5:][::-1]\n",
        "\n",
        "print(\"Top 5 most similar documents:\")\n",
        "for i, idx in enumerate(top_indices):\n",
        "    print(f\"{i+1}. Document {idx}: {df_news[idx]}\")"
      ],
      "metadata": {
        "colab": {
          "base_uri": "https://localhost:8080/"
        },
        "id": "TUcDe4ysxCmt",
        "outputId": "9d1bb09c-3c9f-4ee2-a9b1-9645a5a27d62"
      },
      "execution_count": 316,
      "outputs": [
        {
          "output_type": "stream",
          "name": "stdout",
          "text": [
            "Top 5 most similar documents:\n",
            "1. Document 27: Smallcap Defence Company Declares 2:1 Bonus Issue; Stock Zooms 20% - Equitymaster\n",
            "2. Document 25: Stock of this telecom equipment company has zoomed over 200% in 5 months - Business Standard\n",
            "3. Document 146: Titagarh Rail Systems stock jumps 4.4% after company signs contract worth ₹857 crore - MintGenie\n",
            "4. Document 16: Small cap stock gained up to 3.2% after it received an order from Cochin Shipyard - Trade Brains\n",
            "5. Document 44: 1:5 Stock Split: Small Cap Multibagger Telecommunications Stock Hits New 52-Week High - Goodreturns\n"
          ]
        }
      ]
    },
    {
      "cell_type": "code",
      "source": [
        "# Query-3 processing\n",
        "preprocessed_query = preprocess_text(query3)\n",
        "query_vector = (vectorizer.transform([preprocessed_query])).reshape(1,-1)\n",
        "# print(query_vector.shape)\n",
        "# Calculating cosine similarity between query and documents\n",
        "similarity_scores = cosine_similarity(query_vector, tfidf_matrix)\n",
        "\n",
        "# Retrieving most similar five documents\n",
        "top_indices = np.argsort(similarity_scores.ravel())[-5:][::-1]\n",
        "\n",
        "print(\"Top 5 most similar documents:\")\n",
        "for i, idx in enumerate(top_indices):\n",
        "    print(f\"{i+1}. Document {idx}: {df_news[idx]}\")"
      ],
      "metadata": {
        "colab": {
          "base_uri": "https://localhost:8080/"
        },
        "id": "E5K_RXtzxY2s",
        "outputId": "6db9c304-1ba4-477e-8051-3c855857f8db"
      },
      "execution_count": 317,
      "outputs": [
        {
          "output_type": "stream",
          "name": "stdout",
          "text": [
            "Top 5 most similar documents:\n",
            "1. Document 93: Titagarh Rail Systems stock gains on launching Rs 700-crore QIP issue - Moneycontrol\n",
            "2. Document 95: Titagarh Rail Systems shares rise after the launch of Rs 700 crore QIP issue - Zee Business\n",
            "3. Document 156: Titagarh Rail Systems launches diving support craft for Indian Navy - MyIndMakers\n",
            "4. Document 97: Titagarh Rail Systems Surges on Rs 700 Crore QIP Launch, Eyes Debt Repayment - Indiainfoline\n",
            "5. Document 66: Railway stock jumps 3.4% after launching new product for Indian Navy - Trade Brains\n"
          ]
        }
      ]
    }
  ]
}