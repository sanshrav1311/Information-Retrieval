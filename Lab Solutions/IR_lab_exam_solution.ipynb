{
  "nbformat": 4,
  "nbformat_minor": 0,
  "metadata": {
    "colab": {
      "provenance": []
    },
    "kernelspec": {
      "name": "python3",
      "display_name": "Python 3"
    },
    "language_info": {
      "name": "python"
    }
  },
  "cells": [
    {
      "cell_type": "markdown",
      "source": [
        "# Solution of lab exam"
      ],
      "metadata": {
        "id": "7JPP1lQYg4J4"
      }
    },
    {
      "cell_type": "markdown",
      "source": [
        "## Load dataset"
      ],
      "metadata": {
        "id": "0tyAJLXziThd"
      }
    },
    {
      "cell_type": "code",
      "source": [
        "import pandas as pd\n",
        "import networkx as nx\n",
        "import numpy as np\n",
        "from sklearn.model_selection import train_test_split\n",
        "from sklearn.metrics import accuracy_score\n",
        "from sklearn.preprocessing import LabelEncoder\n",
        "import matplotlib.pyplot as plt\n",
        "from sklearn.metrics import precision_score, recall_score"
      ],
      "metadata": {
        "id": "Z_KUL1Fjly71"
      },
      "execution_count": 16,
      "outputs": []
    },
    {
      "cell_type": "code",
      "execution_count": 17,
      "metadata": {
        "colab": {
          "base_uri": "https://localhost:8080/",
          "height": 423
        },
        "id": "j-kmj_lpiMRg",
        "outputId": "47529e26-3e5c-4ecb-fd4f-0e5035219a84"
      },
      "outputs": [
        {
          "output_type": "execute_result",
          "data": {
            "text/plain": [
              "         0     1     2     3     4     5     6     7     8     9     ...  \\\n",
              "0       31336     0     0     0     0     0     0     0     0     0  ...   \n",
              "1     1061127     0     0     0     0     0     0     0     0     0  ...   \n",
              "2     1106406     0     0     0     0     0     0     0     0     0  ...   \n",
              "3       13195     0     0     0     0     0     0     0     0     0  ...   \n",
              "4       37879     0     0     0     0     0     0     0     0     0  ...   \n",
              "...       ...   ...   ...   ...   ...   ...   ...   ...   ...   ...  ...   \n",
              "2703  1128975     0     0     0     0     0     0     0     0     0  ...   \n",
              "2704  1128977     0     0     0     0     0     0     0     0     0  ...   \n",
              "2705  1128978     0     0     0     0     0     0     0     0     0  ...   \n",
              "2706   117328     0     0     0     0     1     0     0     0     0  ...   \n",
              "2707    24043     0     0     0     0     0     0     0     0     0  ...   \n",
              "\n",
              "      1425  1426  1427  1428  1429  1430  1431  1432  1433  \\\n",
              "0        0     0     1     0     0     0     0     0     0   \n",
              "1        0     1     0     0     0     0     0     0     0   \n",
              "2        0     0     0     0     0     0     0     0     0   \n",
              "3        0     0     0     0     0     0     0     0     0   \n",
              "4        0     0     0     0     0     0     0     0     0   \n",
              "...    ...   ...   ...   ...   ...   ...   ...   ...   ...   \n",
              "2703     0     0     0     0     0     0     0     0     0   \n",
              "2704     0     0     0     0     0     0     0     0     0   \n",
              "2705     0     0     0     0     0     0     0     0     0   \n",
              "2706     0     0     0     0     0     0     0     0     0   \n",
              "2707     0     0     0     0     0     0     0     0     0   \n",
              "\n",
              "                        1434  \n",
              "0            Neural_Networks  \n",
              "1              Rule_Learning  \n",
              "2     Reinforcement_Learning  \n",
              "3     Reinforcement_Learning  \n",
              "4      Probabilistic_Methods  \n",
              "...                      ...  \n",
              "2703      Genetic_Algorithms  \n",
              "2704      Genetic_Algorithms  \n",
              "2705      Genetic_Algorithms  \n",
              "2706              Case_Based  \n",
              "2707         Neural_Networks  \n",
              "\n",
              "[2708 rows x 1435 columns]"
            ],
            "text/html": [
              "\n",
              "  <div id=\"df-be9077c2-d788-4963-84b3-109914a6d619\" class=\"colab-df-container\">\n",
              "    <div>\n",
              "<style scoped>\n",
              "    .dataframe tbody tr th:only-of-type {\n",
              "        vertical-align: middle;\n",
              "    }\n",
              "\n",
              "    .dataframe tbody tr th {\n",
              "        vertical-align: top;\n",
              "    }\n",
              "\n",
              "    .dataframe thead th {\n",
              "        text-align: right;\n",
              "    }\n",
              "</style>\n",
              "<table border=\"1\" class=\"dataframe\">\n",
              "  <thead>\n",
              "    <tr style=\"text-align: right;\">\n",
              "      <th></th>\n",
              "      <th>0</th>\n",
              "      <th>1</th>\n",
              "      <th>2</th>\n",
              "      <th>3</th>\n",
              "      <th>4</th>\n",
              "      <th>5</th>\n",
              "      <th>6</th>\n",
              "      <th>7</th>\n",
              "      <th>8</th>\n",
              "      <th>9</th>\n",
              "      <th>...</th>\n",
              "      <th>1425</th>\n",
              "      <th>1426</th>\n",
              "      <th>1427</th>\n",
              "      <th>1428</th>\n",
              "      <th>1429</th>\n",
              "      <th>1430</th>\n",
              "      <th>1431</th>\n",
              "      <th>1432</th>\n",
              "      <th>1433</th>\n",
              "      <th>1434</th>\n",
              "    </tr>\n",
              "  </thead>\n",
              "  <tbody>\n",
              "    <tr>\n",
              "      <th>0</th>\n",
              "      <td>31336</td>\n",
              "      <td>0</td>\n",
              "      <td>0</td>\n",
              "      <td>0</td>\n",
              "      <td>0</td>\n",
              "      <td>0</td>\n",
              "      <td>0</td>\n",
              "      <td>0</td>\n",
              "      <td>0</td>\n",
              "      <td>0</td>\n",
              "      <td>...</td>\n",
              "      <td>0</td>\n",
              "      <td>0</td>\n",
              "      <td>1</td>\n",
              "      <td>0</td>\n",
              "      <td>0</td>\n",
              "      <td>0</td>\n",
              "      <td>0</td>\n",
              "      <td>0</td>\n",
              "      <td>0</td>\n",
              "      <td>Neural_Networks</td>\n",
              "    </tr>\n",
              "    <tr>\n",
              "      <th>1</th>\n",
              "      <td>1061127</td>\n",
              "      <td>0</td>\n",
              "      <td>0</td>\n",
              "      <td>0</td>\n",
              "      <td>0</td>\n",
              "      <td>0</td>\n",
              "      <td>0</td>\n",
              "      <td>0</td>\n",
              "      <td>0</td>\n",
              "      <td>0</td>\n",
              "      <td>...</td>\n",
              "      <td>0</td>\n",
              "      <td>1</td>\n",
              "      <td>0</td>\n",
              "      <td>0</td>\n",
              "      <td>0</td>\n",
              "      <td>0</td>\n",
              "      <td>0</td>\n",
              "      <td>0</td>\n",
              "      <td>0</td>\n",
              "      <td>Rule_Learning</td>\n",
              "    </tr>\n",
              "    <tr>\n",
              "      <th>2</th>\n",
              "      <td>1106406</td>\n",
              "      <td>0</td>\n",
              "      <td>0</td>\n",
              "      <td>0</td>\n",
              "      <td>0</td>\n",
              "      <td>0</td>\n",
              "      <td>0</td>\n",
              "      <td>0</td>\n",
              "      <td>0</td>\n",
              "      <td>0</td>\n",
              "      <td>...</td>\n",
              "      <td>0</td>\n",
              "      <td>0</td>\n",
              "      <td>0</td>\n",
              "      <td>0</td>\n",
              "      <td>0</td>\n",
              "      <td>0</td>\n",
              "      <td>0</td>\n",
              "      <td>0</td>\n",
              "      <td>0</td>\n",
              "      <td>Reinforcement_Learning</td>\n",
              "    </tr>\n",
              "    <tr>\n",
              "      <th>3</th>\n",
              "      <td>13195</td>\n",
              "      <td>0</td>\n",
              "      <td>0</td>\n",
              "      <td>0</td>\n",
              "      <td>0</td>\n",
              "      <td>0</td>\n",
              "      <td>0</td>\n",
              "      <td>0</td>\n",
              "      <td>0</td>\n",
              "      <td>0</td>\n",
              "      <td>...</td>\n",
              "      <td>0</td>\n",
              "      <td>0</td>\n",
              "      <td>0</td>\n",
              "      <td>0</td>\n",
              "      <td>0</td>\n",
              "      <td>0</td>\n",
              "      <td>0</td>\n",
              "      <td>0</td>\n",
              "      <td>0</td>\n",
              "      <td>Reinforcement_Learning</td>\n",
              "    </tr>\n",
              "    <tr>\n",
              "      <th>4</th>\n",
              "      <td>37879</td>\n",
              "      <td>0</td>\n",
              "      <td>0</td>\n",
              "      <td>0</td>\n",
              "      <td>0</td>\n",
              "      <td>0</td>\n",
              "      <td>0</td>\n",
              "      <td>0</td>\n",
              "      <td>0</td>\n",
              "      <td>0</td>\n",
              "      <td>...</td>\n",
              "      <td>0</td>\n",
              "      <td>0</td>\n",
              "      <td>0</td>\n",
              "      <td>0</td>\n",
              "      <td>0</td>\n",
              "      <td>0</td>\n",
              "      <td>0</td>\n",
              "      <td>0</td>\n",
              "      <td>0</td>\n",
              "      <td>Probabilistic_Methods</td>\n",
              "    </tr>\n",
              "    <tr>\n",
              "      <th>...</th>\n",
              "      <td>...</td>\n",
              "      <td>...</td>\n",
              "      <td>...</td>\n",
              "      <td>...</td>\n",
              "      <td>...</td>\n",
              "      <td>...</td>\n",
              "      <td>...</td>\n",
              "      <td>...</td>\n",
              "      <td>...</td>\n",
              "      <td>...</td>\n",
              "      <td>...</td>\n",
              "      <td>...</td>\n",
              "      <td>...</td>\n",
              "      <td>...</td>\n",
              "      <td>...</td>\n",
              "      <td>...</td>\n",
              "      <td>...</td>\n",
              "      <td>...</td>\n",
              "      <td>...</td>\n",
              "      <td>...</td>\n",
              "      <td>...</td>\n",
              "    </tr>\n",
              "    <tr>\n",
              "      <th>2703</th>\n",
              "      <td>1128975</td>\n",
              "      <td>0</td>\n",
              "      <td>0</td>\n",
              "      <td>0</td>\n",
              "      <td>0</td>\n",
              "      <td>0</td>\n",
              "      <td>0</td>\n",
              "      <td>0</td>\n",
              "      <td>0</td>\n",
              "      <td>0</td>\n",
              "      <td>...</td>\n",
              "      <td>0</td>\n",
              "      <td>0</td>\n",
              "      <td>0</td>\n",
              "      <td>0</td>\n",
              "      <td>0</td>\n",
              "      <td>0</td>\n",
              "      <td>0</td>\n",
              "      <td>0</td>\n",
              "      <td>0</td>\n",
              "      <td>Genetic_Algorithms</td>\n",
              "    </tr>\n",
              "    <tr>\n",
              "      <th>2704</th>\n",
              "      <td>1128977</td>\n",
              "      <td>0</td>\n",
              "      <td>0</td>\n",
              "      <td>0</td>\n",
              "      <td>0</td>\n",
              "      <td>0</td>\n",
              "      <td>0</td>\n",
              "      <td>0</td>\n",
              "      <td>0</td>\n",
              "      <td>0</td>\n",
              "      <td>...</td>\n",
              "      <td>0</td>\n",
              "      <td>0</td>\n",
              "      <td>0</td>\n",
              "      <td>0</td>\n",
              "      <td>0</td>\n",
              "      <td>0</td>\n",
              "      <td>0</td>\n",
              "      <td>0</td>\n",
              "      <td>0</td>\n",
              "      <td>Genetic_Algorithms</td>\n",
              "    </tr>\n",
              "    <tr>\n",
              "      <th>2705</th>\n",
              "      <td>1128978</td>\n",
              "      <td>0</td>\n",
              "      <td>0</td>\n",
              "      <td>0</td>\n",
              "      <td>0</td>\n",
              "      <td>0</td>\n",
              "      <td>0</td>\n",
              "      <td>0</td>\n",
              "      <td>0</td>\n",
              "      <td>0</td>\n",
              "      <td>...</td>\n",
              "      <td>0</td>\n",
              "      <td>0</td>\n",
              "      <td>0</td>\n",
              "      <td>0</td>\n",
              "      <td>0</td>\n",
              "      <td>0</td>\n",
              "      <td>0</td>\n",
              "      <td>0</td>\n",
              "      <td>0</td>\n",
              "      <td>Genetic_Algorithms</td>\n",
              "    </tr>\n",
              "    <tr>\n",
              "      <th>2706</th>\n",
              "      <td>117328</td>\n",
              "      <td>0</td>\n",
              "      <td>0</td>\n",
              "      <td>0</td>\n",
              "      <td>0</td>\n",
              "      <td>1</td>\n",
              "      <td>0</td>\n",
              "      <td>0</td>\n",
              "      <td>0</td>\n",
              "      <td>0</td>\n",
              "      <td>...</td>\n",
              "      <td>0</td>\n",
              "      <td>0</td>\n",
              "      <td>0</td>\n",
              "      <td>0</td>\n",
              "      <td>0</td>\n",
              "      <td>0</td>\n",
              "      <td>0</td>\n",
              "      <td>0</td>\n",
              "      <td>0</td>\n",
              "      <td>Case_Based</td>\n",
              "    </tr>\n",
              "    <tr>\n",
              "      <th>2707</th>\n",
              "      <td>24043</td>\n",
              "      <td>0</td>\n",
              "      <td>0</td>\n",
              "      <td>0</td>\n",
              "      <td>0</td>\n",
              "      <td>0</td>\n",
              "      <td>0</td>\n",
              "      <td>0</td>\n",
              "      <td>0</td>\n",
              "      <td>0</td>\n",
              "      <td>...</td>\n",
              "      <td>0</td>\n",
              "      <td>0</td>\n",
              "      <td>0</td>\n",
              "      <td>0</td>\n",
              "      <td>0</td>\n",
              "      <td>0</td>\n",
              "      <td>0</td>\n",
              "      <td>0</td>\n",
              "      <td>0</td>\n",
              "      <td>Neural_Networks</td>\n",
              "    </tr>\n",
              "  </tbody>\n",
              "</table>\n",
              "<p>2708 rows × 1435 columns</p>\n",
              "</div>\n",
              "    <div class=\"colab-df-buttons\">\n",
              "\n",
              "  <div class=\"colab-df-container\">\n",
              "    <button class=\"colab-df-convert\" onclick=\"convertToInteractive('df-be9077c2-d788-4963-84b3-109914a6d619')\"\n",
              "            title=\"Convert this dataframe to an interactive table.\"\n",
              "            style=\"display:none;\">\n",
              "\n",
              "  <svg xmlns=\"http://www.w3.org/2000/svg\" height=\"24px\" viewBox=\"0 -960 960 960\">\n",
              "    <path d=\"M120-120v-720h720v720H120Zm60-500h600v-160H180v160Zm220 220h160v-160H400v160Zm0 220h160v-160H400v160ZM180-400h160v-160H180v160Zm440 0h160v-160H620v160ZM180-180h160v-160H180v160Zm440 0h160v-160H620v160Z\"/>\n",
              "  </svg>\n",
              "    </button>\n",
              "\n",
              "  <style>\n",
              "    .colab-df-container {\n",
              "      display:flex;\n",
              "      gap: 12px;\n",
              "    }\n",
              "\n",
              "    .colab-df-convert {\n",
              "      background-color: #E8F0FE;\n",
              "      border: none;\n",
              "      border-radius: 50%;\n",
              "      cursor: pointer;\n",
              "      display: none;\n",
              "      fill: #1967D2;\n",
              "      height: 32px;\n",
              "      padding: 0 0 0 0;\n",
              "      width: 32px;\n",
              "    }\n",
              "\n",
              "    .colab-df-convert:hover {\n",
              "      background-color: #E2EBFA;\n",
              "      box-shadow: 0px 1px 2px rgba(60, 64, 67, 0.3), 0px 1px 3px 1px rgba(60, 64, 67, 0.15);\n",
              "      fill: #174EA6;\n",
              "    }\n",
              "\n",
              "    .colab-df-buttons div {\n",
              "      margin-bottom: 4px;\n",
              "    }\n",
              "\n",
              "    [theme=dark] .colab-df-convert {\n",
              "      background-color: #3B4455;\n",
              "      fill: #D2E3FC;\n",
              "    }\n",
              "\n",
              "    [theme=dark] .colab-df-convert:hover {\n",
              "      background-color: #434B5C;\n",
              "      box-shadow: 0px 1px 3px 1px rgba(0, 0, 0, 0.15);\n",
              "      filter: drop-shadow(0px 1px 2px rgba(0, 0, 0, 0.3));\n",
              "      fill: #FFFFFF;\n",
              "    }\n",
              "  </style>\n",
              "\n",
              "    <script>\n",
              "      const buttonEl =\n",
              "        document.querySelector('#df-be9077c2-d788-4963-84b3-109914a6d619 button.colab-df-convert');\n",
              "      buttonEl.style.display =\n",
              "        google.colab.kernel.accessAllowed ? 'block' : 'none';\n",
              "\n",
              "      async function convertToInteractive(key) {\n",
              "        const element = document.querySelector('#df-be9077c2-d788-4963-84b3-109914a6d619');\n",
              "        const dataTable =\n",
              "          await google.colab.kernel.invokeFunction('convertToInteractive',\n",
              "                                                    [key], {});\n",
              "        if (!dataTable) return;\n",
              "\n",
              "        const docLinkHtml = 'Like what you see? Visit the ' +\n",
              "          '<a target=\"_blank\" href=https://colab.research.google.com/notebooks/data_table.ipynb>data table notebook</a>'\n",
              "          + ' to learn more about interactive tables.';\n",
              "        element.innerHTML = '';\n",
              "        dataTable['output_type'] = 'display_data';\n",
              "        await google.colab.output.renderOutput(dataTable, element);\n",
              "        const docLink = document.createElement('div');\n",
              "        docLink.innerHTML = docLinkHtml;\n",
              "        element.appendChild(docLink);\n",
              "      }\n",
              "    </script>\n",
              "  </div>\n",
              "\n",
              "\n",
              "<div id=\"df-150648b3-907e-4d17-b58e-50e63e213c43\">\n",
              "  <button class=\"colab-df-quickchart\" onclick=\"quickchart('df-150648b3-907e-4d17-b58e-50e63e213c43')\"\n",
              "            title=\"Suggest charts\"\n",
              "            style=\"display:none;\">\n",
              "\n",
              "<svg xmlns=\"http://www.w3.org/2000/svg\" height=\"24px\"viewBox=\"0 0 24 24\"\n",
              "     width=\"24px\">\n",
              "    <g>\n",
              "        <path d=\"M19 3H5c-1.1 0-2 .9-2 2v14c0 1.1.9 2 2 2h14c1.1 0 2-.9 2-2V5c0-1.1-.9-2-2-2zM9 17H7v-7h2v7zm4 0h-2V7h2v10zm4 0h-2v-4h2v4z\"/>\n",
              "    </g>\n",
              "</svg>\n",
              "  </button>\n",
              "\n",
              "<style>\n",
              "  .colab-df-quickchart {\n",
              "      --bg-color: #E8F0FE;\n",
              "      --fill-color: #1967D2;\n",
              "      --hover-bg-color: #E2EBFA;\n",
              "      --hover-fill-color: #174EA6;\n",
              "      --disabled-fill-color: #AAA;\n",
              "      --disabled-bg-color: #DDD;\n",
              "  }\n",
              "\n",
              "  [theme=dark] .colab-df-quickchart {\n",
              "      --bg-color: #3B4455;\n",
              "      --fill-color: #D2E3FC;\n",
              "      --hover-bg-color: #434B5C;\n",
              "      --hover-fill-color: #FFFFFF;\n",
              "      --disabled-bg-color: #3B4455;\n",
              "      --disabled-fill-color: #666;\n",
              "  }\n",
              "\n",
              "  .colab-df-quickchart {\n",
              "    background-color: var(--bg-color);\n",
              "    border: none;\n",
              "    border-radius: 50%;\n",
              "    cursor: pointer;\n",
              "    display: none;\n",
              "    fill: var(--fill-color);\n",
              "    height: 32px;\n",
              "    padding: 0;\n",
              "    width: 32px;\n",
              "  }\n",
              "\n",
              "  .colab-df-quickchart:hover {\n",
              "    background-color: var(--hover-bg-color);\n",
              "    box-shadow: 0 1px 2px rgba(60, 64, 67, 0.3), 0 1px 3px 1px rgba(60, 64, 67, 0.15);\n",
              "    fill: var(--button-hover-fill-color);\n",
              "  }\n",
              "\n",
              "  .colab-df-quickchart-complete:disabled,\n",
              "  .colab-df-quickchart-complete:disabled:hover {\n",
              "    background-color: var(--disabled-bg-color);\n",
              "    fill: var(--disabled-fill-color);\n",
              "    box-shadow: none;\n",
              "  }\n",
              "\n",
              "  .colab-df-spinner {\n",
              "    border: 2px solid var(--fill-color);\n",
              "    border-color: transparent;\n",
              "    border-bottom-color: var(--fill-color);\n",
              "    animation:\n",
              "      spin 1s steps(1) infinite;\n",
              "  }\n",
              "\n",
              "  @keyframes spin {\n",
              "    0% {\n",
              "      border-color: transparent;\n",
              "      border-bottom-color: var(--fill-color);\n",
              "      border-left-color: var(--fill-color);\n",
              "    }\n",
              "    20% {\n",
              "      border-color: transparent;\n",
              "      border-left-color: var(--fill-color);\n",
              "      border-top-color: var(--fill-color);\n",
              "    }\n",
              "    30% {\n",
              "      border-color: transparent;\n",
              "      border-left-color: var(--fill-color);\n",
              "      border-top-color: var(--fill-color);\n",
              "      border-right-color: var(--fill-color);\n",
              "    }\n",
              "    40% {\n",
              "      border-color: transparent;\n",
              "      border-right-color: var(--fill-color);\n",
              "      border-top-color: var(--fill-color);\n",
              "    }\n",
              "    60% {\n",
              "      border-color: transparent;\n",
              "      border-right-color: var(--fill-color);\n",
              "    }\n",
              "    80% {\n",
              "      border-color: transparent;\n",
              "      border-right-color: var(--fill-color);\n",
              "      border-bottom-color: var(--fill-color);\n",
              "    }\n",
              "    90% {\n",
              "      border-color: transparent;\n",
              "      border-bottom-color: var(--fill-color);\n",
              "    }\n",
              "  }\n",
              "</style>\n",
              "\n",
              "  <script>\n",
              "    async function quickchart(key) {\n",
              "      const quickchartButtonEl =\n",
              "        document.querySelector('#' + key + ' button');\n",
              "      quickchartButtonEl.disabled = true;  // To prevent multiple clicks.\n",
              "      quickchartButtonEl.classList.add('colab-df-spinner');\n",
              "      try {\n",
              "        const charts = await google.colab.kernel.invokeFunction(\n",
              "            'suggestCharts', [key], {});\n",
              "      } catch (error) {\n",
              "        console.error('Error during call to suggestCharts:', error);\n",
              "      }\n",
              "      quickchartButtonEl.classList.remove('colab-df-spinner');\n",
              "      quickchartButtonEl.classList.add('colab-df-quickchart-complete');\n",
              "    }\n",
              "    (() => {\n",
              "      let quickchartButtonEl =\n",
              "        document.querySelector('#df-150648b3-907e-4d17-b58e-50e63e213c43 button');\n",
              "      quickchartButtonEl.style.display =\n",
              "        google.colab.kernel.accessAllowed ? 'block' : 'none';\n",
              "    })();\n",
              "  </script>\n",
              "</div>\n",
              "\n",
              "  <div id=\"id_ec6c3f36-03d3-4ad2-9953-5cea5637b327\">\n",
              "    <style>\n",
              "      .colab-df-generate {\n",
              "        background-color: #E8F0FE;\n",
              "        border: none;\n",
              "        border-radius: 50%;\n",
              "        cursor: pointer;\n",
              "        display: none;\n",
              "        fill: #1967D2;\n",
              "        height: 32px;\n",
              "        padding: 0 0 0 0;\n",
              "        width: 32px;\n",
              "      }\n",
              "\n",
              "      .colab-df-generate:hover {\n",
              "        background-color: #E2EBFA;\n",
              "        box-shadow: 0px 1px 2px rgba(60, 64, 67, 0.3), 0px 1px 3px 1px rgba(60, 64, 67, 0.15);\n",
              "        fill: #174EA6;\n",
              "      }\n",
              "\n",
              "      [theme=dark] .colab-df-generate {\n",
              "        background-color: #3B4455;\n",
              "        fill: #D2E3FC;\n",
              "      }\n",
              "\n",
              "      [theme=dark] .colab-df-generate:hover {\n",
              "        background-color: #434B5C;\n",
              "        box-shadow: 0px 1px 3px 1px rgba(0, 0, 0, 0.15);\n",
              "        filter: drop-shadow(0px 1px 2px rgba(0, 0, 0, 0.3));\n",
              "        fill: #FFFFFF;\n",
              "      }\n",
              "    </style>\n",
              "    <button class=\"colab-df-generate\" onclick=\"generateWithVariable('cora')\"\n",
              "            title=\"Generate code using this dataframe.\"\n",
              "            style=\"display:none;\">\n",
              "\n",
              "  <svg xmlns=\"http://www.w3.org/2000/svg\" height=\"24px\"viewBox=\"0 0 24 24\"\n",
              "       width=\"24px\">\n",
              "    <path d=\"M7,19H8.4L18.45,9,17,7.55,7,17.6ZM5,21V16.75L18.45,3.32a2,2,0,0,1,2.83,0l1.4,1.43a1.91,1.91,0,0,1,.58,1.4,1.91,1.91,0,0,1-.58,1.4L9.25,21ZM18.45,9,17,7.55Zm-12,3A5.31,5.31,0,0,0,4.9,8.1,5.31,5.31,0,0,0,1,6.5,5.31,5.31,0,0,0,4.9,4.9,5.31,5.31,0,0,0,6.5,1,5.31,5.31,0,0,0,8.1,4.9,5.31,5.31,0,0,0,12,6.5,5.46,5.46,0,0,0,6.5,12Z\"/>\n",
              "  </svg>\n",
              "    </button>\n",
              "    <script>\n",
              "      (() => {\n",
              "      const buttonEl =\n",
              "        document.querySelector('#id_ec6c3f36-03d3-4ad2-9953-5cea5637b327 button.colab-df-generate');\n",
              "      buttonEl.style.display =\n",
              "        google.colab.kernel.accessAllowed ? 'block' : 'none';\n",
              "\n",
              "      buttonEl.onclick = () => {\n",
              "        google.colab.notebook.generateWithVariable('cora');\n",
              "      }\n",
              "      })();\n",
              "    </script>\n",
              "  </div>\n",
              "\n",
              "    </div>\n",
              "  </div>\n"
            ],
            "application/vnd.google.colaboratory.intrinsic+json": {
              "type": "dataframe",
              "variable_name": "cora"
            }
          },
          "metadata": {},
          "execution_count": 17
        }
      ],
      "source": [
        "file_path = \"/content/cora.content\"\n",
        "cora = pd.read_csv(file_path, sep='\\t', header=None, low_memory=False, encoding='unicode_escape')\n",
        "cora"
      ]
    },
    {
      "cell_type": "code",
      "source": [
        "# class distribution\n",
        "class_freq = pd.value_counts(cora.iloc[:,-1])\n",
        "print(class_freq)\n",
        "class_freq.plot(kind='bar')\n",
        "plt.xlabel('Class')\n",
        "plt.ylabel('Frequency')\n",
        "plt.title('Class Frequency Distribution')\n",
        "plt.show()"
      ],
      "metadata": {
        "colab": {
          "base_uri": "https://localhost:8080/",
          "height": 790
        },
        "id": "7ShhwbRCwGOX",
        "outputId": "1da2fa00-df60-4c33-9f5c-23b82e4685ca"
      },
      "execution_count": 18,
      "outputs": [
        {
          "output_type": "stream",
          "name": "stdout",
          "text": [
            "1434\n",
            "Neural_Networks           818\n",
            "Probabilistic_Methods     426\n",
            "Genetic_Algorithms        418\n",
            "Theory                    351\n",
            "Case_Based                298\n",
            "Reinforcement_Learning    217\n",
            "Rule_Learning             180\n",
            "Name: count, dtype: int64\n"
          ]
        },
        {
          "output_type": "display_data",
          "data": {
            "text/plain": [
              "<Figure size 640x480 with 1 Axes>"
            ],
            "image/png": "[encoded data removed]"
          },
          "metadata": {}
        }
      ]
    },
    {
      "cell_type": "code",
      "source": [
        "nodeIDs=cora.iloc[:,0]\n",
        "print(nodeIDs[:5])\n",
        "graph = nx.DiGraph()\n",
        "for node in nodeIDs:\n",
        "    graph.add_node(str(node).strip())\n",
        "X = cora.iloc[:, 1:-1]\n",
        "Y = cora.iloc[:, -1]\n",
        "label_encoder = LabelEncoder()\n",
        "Y = label_encoder.fit_transform(Y)\n",
        "print(X.shape, Y.shape)"
      ],
      "metadata": {
        "colab": {
          "base_uri": "https://localhost:8080/"
        },
        "id": "qmSXn6G3l9Yt",
        "outputId": "02330afe-83d9-4327-8241-63896b0faf19"
      },
      "execution_count": 19,
      "outputs": [
        {
          "output_type": "stream",
          "name": "stdout",
          "text": [
            "0      31336\n",
            "1    1061127\n",
            "2    1106406\n",
            "3      13195\n",
            "4      37879\n",
            "Name: 0, dtype: int64\n",
            "(2708, 1433) (2708,)\n"
          ]
        }
      ]
    },
    {
      "cell_type": "code",
      "source": [
        "edge_file_path = \"/content/cora.cites\"\n",
        "with open(edge_file_path,'r')as file:\n",
        "  for idx, line in enumerate(file):\n",
        "    nodes = line.strip().split()\n",
        "    node1=str(nodes[0])\n",
        "    node2=str(nodes[1])\n",
        "    graph.add_edge(node1, node2)\n",
        "adjacency_matrix = nx.adjacency_matrix(graph)\n",
        "A_dense = np.array(adjacency_matrix.todense())\n",
        "A_dense"
      ],
      "metadata": {
        "id": "RpfmiXOKo99G",
        "colab": {
          "base_uri": "https://localhost:8080/"
        },
        "outputId": "a4fca09d-ccda-4505-a545-ced122c381ce"
      },
      "execution_count": 20,
      "outputs": [
        {
          "output_type": "execute_result",
          "data": {
            "text/plain": [
              "array([[0, 0, 0, ..., 0, 0, 0],\n",
              "       [0, 0, 0, ..., 0, 0, 0],\n",
              "       [0, 0, 0, ..., 0, 0, 0],\n",
              "       ...,\n",
              "       [0, 0, 0, ..., 0, 0, 0],\n",
              "       [0, 0, 0, ..., 0, 0, 0],\n",
              "       [0, 0, 0, ..., 0, 0, 0]])"
            ]
          },
          "metadata": {},
          "execution_count": 20
        }
      ]
    },
    {
      "cell_type": "markdown",
      "source": [
        "## PageRank"
      ],
      "metadata": {
        "id": "u6jsTGLfrwqc"
      }
    },
    {
      "cell_type": "code",
      "source": [
        "n = len(A_dense)\n",
        "L = np.zeros_like(A_dense, dtype=float)\n",
        "alpha = 0.85\n",
        "for i in range(n):\n",
        "    out_links = np.sum(A_dense[i], axis=0)\n",
        "    # print(out_links)\n",
        "    if out_links == 0:\n",
        "        L[i] = 1 / n\n",
        "    else:\n",
        "        L[i] = A_dense[i] / out_links\n",
        "\n",
        "M = alpha * L + ((1 - alpha) / n) * np.ones((n, n))\n",
        "pagerank = np.ones(n) / n       # Initialize the PageRank vector\n",
        "\n",
        "for i in range(100):\n",
        "    new_pagerank = np.dot(M.T, pagerank)\n",
        "    if np.linalg.norm(new_pagerank - pagerank, ord=1) < 1e-8:\n",
        "        # print(i)\n",
        "        break\n",
        "    pagerank = new_pagerank\n",
        "\n",
        "print(pagerank[:10])\n",
        "sorted_indices = np.argsort(-pagerank.flatten())\n",
        "sorted_vector = pagerank[sorted_indices]"
      ],
      "metadata": {
        "colab": {
          "base_uri": "https://localhost:8080/"
        },
        "id": "rgTBpi6_2JUJ",
        "outputId": "486c9a61-d921-4324-83c0-6dfdeafa0035"
      },
      "execution_count": 21,
      "outputs": [
        {
          "output_type": "stream",
          "name": "stdout",
          "text": [
            "[0.00021676 0.00019856 0.00030474 0.00019193 0.00019193 0.00024786\n",
            " 0.00025147 0.00020748 0.00033959 0.00055442]\n"
          ]
        }
      ]
    },
    {
      "cell_type": "code",
      "source": [
        "top_k_indices = np.argsort(-pagerank)[:5]  # Get indices of top 5 pagerank values\n",
        "top_k_values = pagerank[top_k_indices]     # Get top 3 pagerank values\n",
        "\n",
        "# Get node IDs and their corresponding pagerank values\n",
        "top_k_nodes = [(index, value) for index, value in zip(top_k_indices, top_k_values)]\n",
        "\n",
        "print(\"Top 5 nodes with highest pagerank:\")\n",
        "for node, pagerank_value in top_k_nodes:\n",
        "    print(f\"Paper with nodeID {node}: Pagerank = {pagerank_value}\")"
      ],
      "metadata": {
        "colab": {
          "base_uri": "https://localhost:8080/"
        },
        "id": "nknc8uPx5hqX",
        "outputId": "a607edca-b8c3-4833-df7d-addd720674c6"
      },
      "execution_count": 22,
      "outputs": [
        {
          "output_type": "stream",
          "name": "stdout",
          "text": [
            "Top 5 nodes with highest pagerank:\n",
            "Paper with nodeID 1937: Pagerank = 0.004771087027485981\n",
            "Paper with nodeID 1064: Pagerank = 0.004582901370876762\n",
            "Paper with nodeID 1701: Pagerank = 0.0034907399549798414\n",
            "Paper with nodeID 1814: Pagerank = 0.003442286590018181\n",
            "Paper with nodeID 834: Pagerank = 0.003310903229245167\n"
          ]
        }
      ]
    },
    {
      "cell_type": "code",
      "source": [
        "# def compute_pagerank(adjacency_matrix, damping_factor, num_iterations=200, epsilon=1e-8):\n",
        "#     n = len(adjacency_matrix)\n",
        "#     M = np.zeros_like(adjacency_matrix, dtype=float)  #compute transition matrix\n",
        "#     for i in range(n):\n",
        "#         outgoing_links = np.sum(adjacency_matrix[i])\n",
        "#         if outgoing_links == 0:\n",
        "#             M[i] = 1 / n\n",
        "#         else:\n",
        "#             M[i] = adjacency_matrix[i] / outgoing_links\n",
        "\n",
        "#     pagerank = np.ones(n) / n\n",
        "#     for iter in range(num_iterations):\n",
        "#         new_pagerank = (1 - damping_factor) / n + damping_factor * np.dot(M.T, pagerank)    # Pagerank power method with damping factor\n",
        "#         if np.linalg.norm(new_pagerank - pagerank, ord=1) < epsilon:\n",
        "#             break\n",
        "#         pagerank = new_pagerank\n",
        "#     return pagerank, iter+1\n",
        "\n",
        "# def display_pagerank(pagerank, damping_factor):\n",
        "#     print(\"PageRank scores with damping:\", damping_factor)\n",
        "#     for i, score in enumerate(pagerank):\n",
        "#         print(f\"Page {i+1}: {score}\")\n",
        "\n",
        "# def main():\n",
        "#     damping_factor = 0.85\n",
        "\n",
        "#     adjacency_matrix = A_dense  # get adjacency matrix of cora\n",
        "#     pagerank, iter = compute_pagerank(adjacency_matrix, damping_factor=damping_factor)\n",
        "\n",
        "#     top_k_indices = np.argsort(-pagerank)[:5]  # Get indices of top 5 pagerank values\n",
        "#     top_k_values = pagerank[top_k_indices]     # Get top 3 pagerank values\n",
        "\n",
        "#     # Get node IDs and their corresponding pagerank values\n",
        "#     top_k_nodes = [(index, value) for index, value in zip(top_k_indices, top_k_values)]\n",
        "\n",
        "#     print(\"Top 5 nodes with highest pagerank:\")\n",
        "#     for node, pagerank_value in top_k_nodes:\n",
        "#         print(f\"Paper with nodeID {node}: Pagerank = {pagerank_value}\")\n",
        "\n",
        "# if __name__ == \"__main__\":\n",
        "#     main()\n"
      ],
      "metadata": {
        "id": "ZnKqozIHcAsl"
      },
      "execution_count": 23,
      "outputs": []
    },
    {
      "cell_type": "markdown",
      "source": [
        "## Classification using KNN"
      ],
      "metadata": {
        "id": "GyYo3DS6ry71"
      }
    },
    {
      "cell_type": "code",
      "source": [
        "def knn_predict(X_train, y_train, X_test, k):\n",
        "    predictions = []\n",
        "    for x in X_test:\n",
        "        distances = np.linalg.norm(X_train - x, axis=1)\n",
        "        nearest_indices = np.argsort(distances)[:k]\n",
        "        nearest_labels = y_train[nearest_indices]\n",
        "        counts = np.bincount(nearest_labels)\n",
        "\n",
        "        prediction = np.argmax(counts)\n",
        "        predictions.append(prediction)\n",
        "    return np.array(predictions)\n"
      ],
      "metadata": {
        "id": "dTmxnxVS6B01"
      },
      "execution_count": 24,
      "outputs": []
    },
    {
      "cell_type": "markdown",
      "source": [
        "### Random Split"
      ],
      "metadata": {
        "id": "WW0Mv4nAr2c8"
      }
    },
    {
      "cell_type": "code",
      "source": [
        "X_train, X_test, y_train, y_test = train_test_split(X,Y, test_size=0.2, random_state=42, stratify=Y)\n",
        "X_train.shape, y_train.shape, X_test.shape, y_test.shape"
      ],
      "metadata": {
        "colab": {
          "base_uri": "https://localhost:8080/"
        },
        "id": "BXFKV3ugtE8y",
        "outputId": "b01612e9-5bbf-4bd3-ed41-e2228600daea"
      },
      "execution_count": 25,
      "outputs": [
        {
          "output_type": "execute_result",
          "data": {
            "text/plain": [
              "((2166, 1433), (2166,), (542, 1433), (542,))"
            ]
          },
          "metadata": {},
          "execution_count": 25
        }
      ]
    },
    {
      "cell_type": "code",
      "source": [
        "# Use the KNN classifier to make predictions\n",
        "accuracy_arr = []\n",
        "k_values = np.arange(1,6)\n",
        "# print(k_values)\n",
        "for k in k_values:\n",
        "  predictions_knn = knn_predict(np.array(X_train), np.array(y_train), np.array(X_test),k)\n",
        "  accuracy_knn = accuracy_score(y_test, predictions_knn)\n",
        "  print(f\"KNN Accuracy with {k} neighbours:\", accuracy_knn)\n",
        "  accuracy_arr.append(accuracy_knn)"
      ],
      "metadata": {
        "id": "mlqhPOKosodq",
        "colab": {
          "base_uri": "https://localhost:8080/"
        },
        "outputId": "257388ef-b65c-4c34-eade-f108f04bccfc"
      },
      "execution_count": 26,
      "outputs": [
        {
          "output_type": "stream",
          "name": "stdout",
          "text": [
            "KNN Accuracy with 1 neighbours: 0.4483394833948339\n",
            "KNN Accuracy with 2 neighbours: 0.43911439114391143\n",
            "KNN Accuracy with 3 neighbours: 0.45387453874538747\n",
            "KNN Accuracy with 4 neighbours: 0.4612546125461255\n",
            "KNN Accuracy with 5 neighbours: 0.45571955719557194\n"
          ]
        }
      ]
    },
    {
      "cell_type": "code",
      "source": [
        "# classwise Precision, Recall\n",
        "precision = precision_score(y_test, predictions_knn, average=None)\n",
        "recall = recall_score(y_test, predictions_knn, average=None)\n",
        "\n",
        "for class_label, prec, rec in zip(range(len(precision)), precision, recall):\n",
        "    print(f\"Class {class_label}: Precision = {prec}, Recall = {rec}\")\n"
      ],
      "metadata": {
        "colab": {
          "base_uri": "https://localhost:8080/"
        },
        "id": "xh2seruVbG7s",
        "outputId": "601be4df-1ca5-4db2-8bec-64dc520d89a9"
      },
      "execution_count": 27,
      "outputs": [
        {
          "output_type": "stream",
          "name": "stdout",
          "text": [
            "Class 0: Precision = 0.4426229508196721, Recall = 0.45\n",
            "Class 1: Precision = 0.38011695906432746, Recall = 0.7738095238095238\n",
            "Class 2: Precision = 0.480225988700565, Recall = 0.5182926829268293\n",
            "Class 3: Precision = 0.5617977528089888, Recall = 0.5882352941176471\n",
            "Class 4: Precision = 0.75, Recall = 0.13953488372093023\n",
            "Class 5: Precision = 0.16666666666666666, Recall = 0.08333333333333333\n",
            "Class 6: Precision = 0.6111111111111112, Recall = 0.15714285714285714\n"
          ]
        }
      ]
    },
    {
      "cell_type": "code",
      "source": [
        "# Plot k-values vs accuracy\n",
        "plt.plot(k_values, accuracy_arr, marker='o')\n",
        "plt.title('k_values vs. Accuracy')\n",
        "plt.xlabel('k_value')\n",
        "plt.ylabel('Accuracy')\n",
        "plt.show()"
      ],
      "metadata": {
        "id": "eSKyiSPmyGVG",
        "colab": {
          "base_uri": "https://localhost:8080/",
          "height": 472
        },
        "outputId": "cb54e9c3-dce6-4277-97d7-7bc32fca7392"
      },
      "execution_count": 28,
      "outputs": [
        {
          "output_type": "display_data",
          "data": {
            "text/plain": [
              "<Figure size 640x480 with 1 Axes>"
            ],
            "image/png": "[encoded data removed]"
          },
          "metadata": {}
        }
      ]
    },
    {
      "cell_type": "markdown",
      "source": [
        "### PageRank based split"
      ],
      "metadata": {
        "id": "YRYz3Lzjr45f"
      }
    },
    {
      "cell_type": "code",
      "source": [
        "split_index = int(len(sorted_vector) * 0.8)\n",
        "sorted_cora = cora.iloc[sorted_indices.flatten()]\n",
        "sortedX = cora.iloc[:, 1:-1]\n",
        "sortedY = cora.iloc[:, -1]\n",
        "sortedY = label_encoder.fit_transform(sortedY)\n",
        "\n",
        "X_train_sorted = sortedX[:split_index]\n",
        "X_test_sorted = sortedX[split_index:]\n",
        "y_train_sorted = sortedY[:split_index]\n",
        "y_test_sorted = sortedY[split_index:]\n",
        "# X_train2.shape, X_test2.shape, y_train2.shape, y_test2.shape"
      ],
      "metadata": {
        "id": "pUzOfr2N-ue7"
      },
      "execution_count": 29,
      "outputs": []
    },
    {
      "cell_type": "code",
      "source": [
        "accuracy_arr_sorted = []\n",
        "for k in k_values:\n",
        "  predictions_knn_sorted = knn_predict(np.array(X_train_sorted), np.array(y_train_sorted), np.array(X_test_sorted), k)\n",
        "  accuracy_knn_sorted = accuracy_score(y_test_sorted, predictions_knn_sorted)\n",
        "  print(\"KNN Accuracy:\", accuracy_knn_sorted)\n",
        "  accuracy_arr_sorted.append(accuracy_knn_sorted)"
      ],
      "metadata": {
        "colab": {
          "base_uri": "https://localhost:8080/"
        },
        "id": "gX6tI2zYLOnM",
        "outputId": "8cb9d9b4-c80f-4edc-bd1c-9c2f70443dd1"
      },
      "execution_count": 30,
      "outputs": [
        {
          "output_type": "stream",
          "name": "stdout",
          "text": [
            "KNN Accuracy: 0.4114391143911439\n",
            "KNN Accuracy: 0.43911439114391143\n",
            "KNN Accuracy: 0.42435424354243545\n",
            "KNN Accuracy: 0.44095940959409596\n",
            "KNN Accuracy: 0.45202952029520294\n"
          ]
        }
      ]
    },
    {
      "cell_type": "code",
      "source": [
        "# classwise Precision, Recall\n",
        "precision = precision_score(y_test, predictions_knn_sorted, average=None)\n",
        "recall = recall_score(y_test, predictions_knn, average=None)\n",
        "\n",
        "for class_label, prec, rec in zip(range(len(precision)), precision, recall):\n",
        "    print(f\"Class {class_label}: Precision = {prec}, Recall = {rec}\")\n"
      ],
      "metadata": {
        "colab": {
          "base_uri": "https://localhost:8080/"
        },
        "id": "rGuA3TqERAUZ",
        "outputId": "10bd9cd1-430b-49d3-b643-01088d54611e"
      },
      "execution_count": 31,
      "outputs": [
        {
          "output_type": "stream",
          "name": "stdout",
          "text": [
            "Class 0: Precision = 0.14285714285714285, Recall = 0.45\n",
            "Class 1: Precision = 0.1079136690647482, Recall = 0.7738095238095238\n",
            "Class 2: Precision = 0.3070539419087137, Recall = 0.5182926829268293\n",
            "Class 3: Precision = 0.22388059701492538, Recall = 0.5882352941176471\n",
            "Class 4: Precision = 0.25, Recall = 0.13953488372093023\n",
            "Class 5: Precision = 0.0, Recall = 0.08333333333333333\n",
            "Class 6: Precision = 0.08108108108108109, Recall = 0.15714285714285714\n"
          ]
        }
      ]
    },
    {
      "cell_type": "code",
      "source": [
        "# Plot k-values vs accuracy\n",
        "import matplotlib.pyplot as plt\n",
        "plt.plot(k_values, accuracy_arr_sorted, marker='o')\n",
        "plt.title('k_values vs. Accuracy')\n",
        "plt.xlabel('k_value')\n",
        "plt.ylabel('Accuracy')\n",
        "plt.show()"
      ],
      "metadata": {
        "id": "wa-AsnF4xk9k",
        "colab": {
          "base_uri": "https://localhost:8080/",
          "height": 472
        },
        "outputId": "85395b93-5809-4f6d-cef9-8b99da274c40"
      },
      "execution_count": 32,
      "outputs": [
        {
          "output_type": "display_data",
          "data": {
            "text/plain": [
              "<Figure size 640x480 with 1 Axes>"
            ],
            "image/png": "[encoded data removed]"
          },
          "metadata": {}
        }
      ]
    },
    {
      "cell_type": "markdown",
      "source": [
        "## Top-5 cited papers in entire graph\n"
      ],
      "metadata": {
        "id": "c18MgEIxBc4n"
      }
    },
    {
      "cell_type": "code",
      "source": [
        "def hits(adj, num_iterations=100, epsilon=1e-8):\n",
        "        num_nodes = adjacency_matrix.shape[0]\n",
        "        hub = np.ones((num_nodes,1))/n\n",
        "        auth = np.ones(num_nodes)/n\n",
        "\n",
        "        for i in range(num_iterations):\n",
        "            new_auth = np.dot(adj.T, hub)\n",
        "            new_auth /= np.linalg.norm(new_auth, ord=2)\n",
        "\n",
        "            # Update hub scores\n",
        "            new_hub = np.dot(adj, new_auth)\n",
        "            new_hub /= np.linalg.norm(new_hub, ord=2)\n",
        "\n",
        "            if np.linalg.norm(new_auth - auth, ord=1) < epsilon and \\\n",
        "               np.linalg.norm(new_hub - hub, ord=1) < epsilon:\n",
        "                break\n",
        "\n",
        "            auth = new_auth\n",
        "            hub = new_hub\n",
        "        return hub, auth"
      ],
      "metadata": {
        "id": "Zmj0xzRlkirc"
      },
      "execution_count": 33,
      "outputs": []
    },
    {
      "cell_type": "code",
      "source": [
        "hub_score , authority_score = hits(A_dense)\n",
        "authority_score"
      ],
      "metadata": {
        "colab": {
          "base_uri": "https://localhost:8080/"
        },
        "id": "cRgUfajzlqDX",
        "outputId": "ad73311b-5c13-40ae-8706-206e8c764dd1"
      },
      "execution_count": 34,
      "outputs": [
        {
          "output_type": "execute_result",
          "data": {
            "text/plain": [
              "array([[1.37328584e-06],\n",
              "       [3.68886649e-05],\n",
              "       [1.82017282e-03],\n",
              "       ...,\n",
              "       [9.41361249e-04],\n",
              "       [0.00000000e+00],\n",
              "       [0.00000000e+00]])"
            ]
          },
          "metadata": {},
          "execution_count": 34
        }
      ]
    },
    {
      "cell_type": "code",
      "source": [
        "sorted_indices = np.argsort(authority_score.flatten())[::-1]\n",
        "\n",
        "for i in range(5):\n",
        "    # print(f\"PaperID: {top_5_indices[i]}, Score: {top_5_values[i]}\")\n",
        "    print(f\"PaperID: {cora.iloc[sorted_indices[i],0]}, Score: {authority_score[sorted_indices[i]]}\")"
      ],
      "metadata": {
        "colab": {
          "base_uri": "https://localhost:8080/"
        },
        "id": "dCQu0l_eVZMp",
        "outputId": "2f8234c5-5d53-4655-d73d-35fde7da2fbb"
      },
      "execution_count": 36,
      "outputs": [
        {
          "output_type": "stream",
          "name": "stdout",
          "text": [
            "PaperID: 1152421, Score: [0.09125832]\n",
            "PaperID: 1154459, Score: [0.09125832]\n",
            "PaperID: 1153280, Score: [0.09125832]\n",
            "PaperID: 1153943, Score: [0.0896941]\n",
            "PaperID: 1119708, Score: [0.08763587]\n"
          ]
        }
      ]
    },
    {
      "cell_type": "markdown",
      "source": [
        "## Top-5 cited papers in class \"Neural-networks\" and \"Genetic-Algorithms\" respectively"
      ],
      "metadata": {
        "id": "4AbtZ9RiBkX-"
      }
    },
    {
      "cell_type": "code",
      "source": [
        "classes_vector = cora.iloc[:, -1]\n",
        "original_indices = cora.iloc[:,0]\n",
        "\n",
        "# Combine the two vectors and original indices into a list of tuples\n",
        "combined = list(zip(classes_vector, authority_score, original_indices))\n",
        "\n",
        "# Group the combined list by class\n",
        "grouped = {}\n",
        "for cls, value, index in combined:\n",
        "    if cls not in grouped:\n",
        "        grouped[cls] = []\n",
        "    grouped[cls].append((value.item(), index))  # Convert NumPy arrays to plain numbers and store the original index\n",
        "\n",
        "# Sort each group by page rank in descending order\n",
        "for cls in sorted(grouped.keys(), reverse=True):\n",
        "    sorted_values = sorted(grouped[cls], key=lambda x: x[0], reverse=True)\n",
        "    if cls in [\"Genetic_Algorithms\", \"Neural_Networks\"]:\n",
        "      print(f\"Class {cls}: {sorted_values[:5]}\")"
      ],
      "metadata": {
        "id": "WDge37bLBydA",
        "colab": {
          "base_uri": "https://localhost:8080/"
        },
        "outputId": "6340cbc1-c6dd-4623-bbb5-04ee659a45bf"
      },
      "execution_count": 39,
      "outputs": [
        {
          "output_type": "stream",
          "name": "stdout",
          "text": [
            "Class Neural_Networks: [(0.0763734526849461, 46431), (0.07555836102859552, 175291), (0.07554833103904526, 1120431), (0.07460488392933157, 249421), (0.07374095670192403, 103482)]\n",
            "Class Genetic_Algorithms: [(0.09125832035532093, 1154459), (0.09125832035532093, 1152421), (0.09125832035532093, 1153280), (0.08969409886802923, 1153943), (0.08763587006973016, 1119708)]\n"
          ]
        }
      ]
    },
    {
      "cell_type": "code",
      "source": [],
      "metadata": {
        "id": "7PzVQX4QitM-"
      },
      "execution_count": null,
      "outputs": []
    }
  ]
}